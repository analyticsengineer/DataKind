{
 "cells": [
  {
   "cell_type": "markdown",
   "id": "363c6182",
   "metadata": {},
   "source": [
    "####  Exploratory Data Analysis on the SAIPE Program Dataset"
   ]
  },
  {
   "cell_type": "code",
   "execution_count": 79,
   "id": "46954fd7",
   "metadata": {},
   "outputs": [],
   "source": [
    "# Importing necessary libraries\n",
    "\n",
    "import os\n",
    "import pandas as pd\n",
    "import numpy as np\n",
    "import seaborn as sns\n",
    "import matplotlib.pyplot as plt"
   ]
  },
  {
   "cell_type": "code",
   "execution_count": 80,
   "id": "233d96c4",
   "metadata": {},
   "outputs": [],
   "source": [
    "# Read CSV file\n",
    "\n",
    "df = pd.read_csv('small_income_dataset.csv')"
   ]
  },
  {
   "cell_type": "code",
   "execution_count": 81,
   "id": "55277806",
   "metadata": {},
   "outputs": [
    {
     "data": {
      "text/html": [
       "<div><div id=b9a5eda7-a39f-48d2-a022-38cecc903f13 style=\"display:none; background-color:#9D6CFF; color:white; width:200px; height:30px; padding-left:5px; border-radius:4px; flex-direction:row; justify-content:space-around; align-items:center;\" onmouseover=\"this.style.backgroundColor='#BA9BF8'\" onmouseout=\"this.style.backgroundColor='#9D6CFF'\" onclick=\"window.commands?.execute('create-mitosheet-from-dataframe-output');\">See Full Dataframe in Mito</div> <script> if (window.commands.hasCommand('create-mitosheet-from-dataframe-output')) document.getElementById('b9a5eda7-a39f-48d2-a022-38cecc903f13').style.display = 'flex' </script> <table border=\"1\" class=\"dataframe\">\n",
       "  <thead>\n",
       "    <tr style=\"text-align: right;\">\n",
       "      <th></th>\n",
       "      <th>State FIPS Code</th>\n",
       "      <th>County FIPS Code</th>\n",
       "      <th>Postal Code</th>\n",
       "      <th>Name</th>\n",
       "      <th>Poverty Estimate, All Ages</th>\n",
       "      <th>90% CI Lower Bound</th>\n",
       "      <th>90% CI Upper Bound</th>\n",
       "      <th>Poverty Percent, All Ages</th>\n",
       "      <th>90% CI Lower Bound_1</th>\n",
       "      <th>90% CI Upper Bound_2</th>\n",
       "      <th>...</th>\n",
       "      <th>90% CI Upper Bound_10</th>\n",
       "      <th>Median Household Income</th>\n",
       "      <th>90% CI Lower Bound_11</th>\n",
       "      <th>90% CI Upper Bound_12</th>\n",
       "      <th>Poverty Estimate, Age 0-4</th>\n",
       "      <th>90% CI Lower Bound_13</th>\n",
       "      <th>90% CI Upper Bound_14</th>\n",
       "      <th>Poverty Percent, Age 0-4</th>\n",
       "      <th>90% CI Lower Bound_15</th>\n",
       "      <th>90% CI Upper Bound_16</th>\n",
       "    </tr>\n",
       "  </thead>\n",
       "  <tbody>\n",
       "    <tr>\n",
       "      <th>0</th>\n",
       "      <td>0</td>\n",
       "      <td>0</td>\n",
       "      <td>US</td>\n",
       "      <td>United States</td>\n",
       "      <td>38371394</td>\n",
       "      <td>38309115</td>\n",
       "      <td>38433673</td>\n",
       "      <td>11.9</td>\n",
       "      <td>11.9</td>\n",
       "      <td>11.9</td>\n",
       "      <td>...</td>\n",
       "      <td>14.9</td>\n",
       "      <td>67340</td>\n",
       "      <td>67251</td>\n",
       "      <td>67429</td>\n",
       "      <td>3,146,325</td>\n",
       "      <td>3,133,736</td>\n",
       "      <td>3,158,914</td>\n",
       "      <td>16.8</td>\n",
       "      <td>16.7</td>\n",
       "      <td>16.9</td>\n",
       "    </tr>\n",
       "    <tr>\n",
       "      <th>1</th>\n",
       "      <td>1</td>\n",
       "      <td>0</td>\n",
       "      <td>AL</td>\n",
       "      <td>Alabama</td>\n",
       "      <td>714568</td>\n",
       "      <td>695249</td>\n",
       "      <td>733887</td>\n",
       "      <td>14.9</td>\n",
       "      <td>14.5</td>\n",
       "      <td>15.3</td>\n",
       "      <td>...</td>\n",
       "      <td>20.7</td>\n",
       "      <td>53958</td>\n",
       "      <td>53013</td>\n",
       "      <td>54903</td>\n",
       "      <td>66,169</td>\n",
       "      <td>61,541</td>\n",
       "      <td>70,797</td>\n",
       "      <td>23.3</td>\n",
       "      <td>21.7</td>\n",
       "      <td>24.9</td>\n",
       "    </tr>\n",
       "    <tr>\n",
       "      <th>2</th>\n",
       "      <td>1</td>\n",
       "      <td>1</td>\n",
       "      <td>AL</td>\n",
       "      <td>Autauga County</td>\n",
       "      <td>6242</td>\n",
       "      <td>4930</td>\n",
       "      <td>7554</td>\n",
       "      <td>11.2</td>\n",
       "      <td>8.8</td>\n",
       "      <td>13.6</td>\n",
       "      <td>...</td>\n",
       "      <td>19.3</td>\n",
       "      <td>67565</td>\n",
       "      <td>59132</td>\n",
       "      <td>75998</td>\n",
       "      <td>.</td>\n",
       "      <td>.</td>\n",
       "      <td>.</td>\n",
       "      <td>.</td>\n",
       "      <td>.</td>\n",
       "      <td>.</td>\n",
       "    </tr>\n",
       "    <tr>\n",
       "      <th>3</th>\n",
       "      <td>1</td>\n",
       "      <td>3</td>\n",
       "      <td>AL</td>\n",
       "      <td>Baldwin County</td>\n",
       "      <td>20189</td>\n",
       "      <td>15535</td>\n",
       "      <td>24843</td>\n",
       "      <td>8.9</td>\n",
       "      <td>6.8</td>\n",
       "      <td>11.0</td>\n",
       "      <td>...</td>\n",
       "      <td>16.1</td>\n",
       "      <td>71135</td>\n",
       "      <td>66540</td>\n",
       "      <td>75730</td>\n",
       "      <td>.</td>\n",
       "      <td>.</td>\n",
       "      <td>.</td>\n",
       "      <td>.</td>\n",
       "      <td>.</td>\n",
       "      <td>.</td>\n",
       "    </tr>\n",
       "    <tr>\n",
       "      <th>4</th>\n",
       "      <td>1</td>\n",
       "      <td>5</td>\n",
       "      <td>AL</td>\n",
       "      <td>Barbour County</td>\n",
       "      <td>5548</td>\n",
       "      <td>4210</td>\n",
       "      <td>6886</td>\n",
       "      <td>25.5</td>\n",
       "      <td>19.3</td>\n",
       "      <td>31.7</td>\n",
       "      <td>...</td>\n",
       "      <td>47.2</td>\n",
       "      <td>38866</td>\n",
       "      <td>33510</td>\n",
       "      <td>44222</td>\n",
       "      <td>.</td>\n",
       "      <td>.</td>\n",
       "      <td>.</td>\n",
       "      <td>.</td>\n",
       "      <td>.</td>\n",
       "      <td>.</td>\n",
       "    </tr>\n",
       "  </tbody>\n",
       "</table></div>"
      ],
      "text/plain": [
       "   State FIPS Code  County FIPS Code Postal Code            Name  \\\n",
       "0                0                 0          US   United States   \n",
       "1                1                 0          AL         Alabama   \n",
       "2                1                 1          AL  Autauga County   \n",
       "3                1                 3          AL  Baldwin County   \n",
       "4                1                 5          AL  Barbour County   \n",
       "\n",
       "   Poverty Estimate, All Ages  90% CI Lower Bound  90% CI Upper Bound  \\\n",
       "0                    38371394            38309115            38433673   \n",
       "1                      714568              695249              733887   \n",
       "2                        6242                4930                7554   \n",
       "3                       20189               15535               24843   \n",
       "4                        5548                4210                6886   \n",
       "\n",
       "   Poverty Percent, All Ages  90% CI Lower Bound_1  90% CI Upper Bound_2  ...  \\\n",
       "0                       11.9                  11.9                  11.9  ...   \n",
       "1                       14.9                  14.5                  15.3  ...   \n",
       "2                       11.2                   8.8                  13.6  ...   \n",
       "3                        8.9                   6.8                  11.0  ...   \n",
       "4                       25.5                  19.3                  31.7  ...   \n",
       "\n",
       "   90% CI Upper Bound_10  Median Household Income  90% CI Lower Bound_11  \\\n",
       "0                   14.9                    67340                  67251   \n",
       "1                   20.7                    53958                  53013   \n",
       "2                   19.3                    67565                  59132   \n",
       "3                   16.1                    71135                  66540   \n",
       "4                   47.2                    38866                  33510   \n",
       "\n",
       "   90% CI Upper Bound_12  Poverty Estimate, Age 0-4  90% CI Lower Bound_13  \\\n",
       "0                  67429                  3,146,325              3,133,736   \n",
       "1                  54903                     66,169                 61,541   \n",
       "2                  75998                          .                      .   \n",
       "3                  75730                          .                      .   \n",
       "4                  44222                          .                      .   \n",
       "\n",
       "   90% CI Upper Bound_14  Poverty Percent, Age 0-4  90% CI Lower Bound_15  \\\n",
       "0              3,158,914                      16.8                   16.7   \n",
       "1                 70,797                      23.3                   21.7   \n",
       "2                      .                         .                      .   \n",
       "3                      .                         .                      .   \n",
       "4                      .                         .                      .   \n",
       "\n",
       "   90% CI Upper Bound_16  \n",
       "0                   16.9  \n",
       "1                   24.9  \n",
       "2                      .  \n",
       "3                      .  \n",
       "4                      .  \n",
       "\n",
       "[5 rows x 31 columns]"
      ]
     },
     "execution_count": 81,
     "metadata": {},
     "output_type": "execute_result"
    }
   ],
   "source": [
    "# Check the head of csv file\n",
    "\n",
    "df.head()"
   ]
  },
  {
   "cell_type": "code",
   "execution_count": 82,
   "id": "77c28a9f",
   "metadata": {},
   "outputs": [
    {
     "data": {
      "text/html": [
       "<div><div id=88eb4a61-4245-4e8a-a93b-7cae3d97e9c7 style=\"display:none; background-color:#9D6CFF; color:white; width:200px; height:30px; padding-left:5px; border-radius:4px; flex-direction:row; justify-content:space-around; align-items:center;\" onmouseover=\"this.style.backgroundColor='#BA9BF8'\" onmouseout=\"this.style.backgroundColor='#9D6CFF'\" onclick=\"window.commands?.execute('create-mitosheet-from-dataframe-output');\">See Full Dataframe in Mito</div> <script> if (window.commands.hasCommand('create-mitosheet-from-dataframe-output')) document.getElementById('88eb4a61-4245-4e8a-a93b-7cae3d97e9c7').style.display = 'flex' </script> <table border=\"1\" class=\"dataframe\">\n",
       "  <thead>\n",
       "    <tr style=\"text-align: right;\">\n",
       "      <th></th>\n",
       "      <th>State FIPS Code</th>\n",
       "      <th>County FIPS Code</th>\n",
       "      <th>Postal Code</th>\n",
       "      <th>Name</th>\n",
       "      <th>Poverty Estimate, All Ages</th>\n",
       "      <th>90% CI Lower Bound</th>\n",
       "      <th>90% CI Upper Bound</th>\n",
       "      <th>Poverty Percent, All Ages</th>\n",
       "      <th>90% CI Lower Bound_1</th>\n",
       "      <th>90% CI Upper Bound_2</th>\n",
       "      <th>...</th>\n",
       "      <th>90% CI Upper Bound_10</th>\n",
       "      <th>Median Household Income</th>\n",
       "      <th>90% CI Lower Bound_11</th>\n",
       "      <th>90% CI Upper Bound_12</th>\n",
       "      <th>Poverty Estimate, Age 0-4</th>\n",
       "      <th>90% CI Lower Bound_13</th>\n",
       "      <th>90% CI Upper Bound_14</th>\n",
       "      <th>Poverty Percent, Age 0-4</th>\n",
       "      <th>90% CI Lower Bound_15</th>\n",
       "      <th>90% CI Upper Bound_16</th>\n",
       "    </tr>\n",
       "  </thead>\n",
       "  <tbody>\n",
       "    <tr>\n",
       "      <th>995</th>\n",
       "      <td>20</td>\n",
       "      <td>179</td>\n",
       "      <td>KS</td>\n",
       "      <td>Sheridan County</td>\n",
       "      <td>260</td>\n",
       "      <td>190</td>\n",
       "      <td>330</td>\n",
       "      <td>10.5</td>\n",
       "      <td>7.7</td>\n",
       "      <td>13.3</td>\n",
       "      <td>...</td>\n",
       "      <td>21.5</td>\n",
       "      <td>58186</td>\n",
       "      <td>49325</td>\n",
       "      <td>67047</td>\n",
       "      <td>.</td>\n",
       "      <td>.</td>\n",
       "      <td>.</td>\n",
       "      <td>.</td>\n",
       "      <td>.</td>\n",
       "      <td>.</td>\n",
       "    </tr>\n",
       "    <tr>\n",
       "      <th>996</th>\n",
       "      <td>20</td>\n",
       "      <td>181</td>\n",
       "      <td>KS</td>\n",
       "      <td>Sherman County</td>\n",
       "      <td>733</td>\n",
       "      <td>556</td>\n",
       "      <td>910</td>\n",
       "      <td>13.0</td>\n",
       "      <td>9.9</td>\n",
       "      <td>16.1</td>\n",
       "      <td>...</td>\n",
       "      <td>23.2</td>\n",
       "      <td>52718</td>\n",
       "      <td>44974</td>\n",
       "      <td>60462</td>\n",
       "      <td>.</td>\n",
       "      <td>.</td>\n",
       "      <td>.</td>\n",
       "      <td>.</td>\n",
       "      <td>.</td>\n",
       "      <td>.</td>\n",
       "    </tr>\n",
       "    <tr>\n",
       "      <th>997</th>\n",
       "      <td>20</td>\n",
       "      <td>183</td>\n",
       "      <td>KS</td>\n",
       "      <td>Smith County</td>\n",
       "      <td>356</td>\n",
       "      <td>260</td>\n",
       "      <td>452</td>\n",
       "      <td>10.3</td>\n",
       "      <td>7.5</td>\n",
       "      <td>13.1</td>\n",
       "      <td>...</td>\n",
       "      <td>21.0</td>\n",
       "      <td>49114</td>\n",
       "      <td>42585</td>\n",
       "      <td>55643</td>\n",
       "      <td>.</td>\n",
       "      <td>.</td>\n",
       "      <td>.</td>\n",
       "      <td>.</td>\n",
       "      <td>.</td>\n",
       "      <td>.</td>\n",
       "    </tr>\n",
       "    <tr>\n",
       "      <th>998</th>\n",
       "      <td>20</td>\n",
       "      <td>185</td>\n",
       "      <td>KS</td>\n",
       "      <td>Stafford County</td>\n",
       "      <td>435</td>\n",
       "      <td>319</td>\n",
       "      <td>551</td>\n",
       "      <td>11.0</td>\n",
       "      <td>8.1</td>\n",
       "      <td>13.9</td>\n",
       "      <td>...</td>\n",
       "      <td>22.3</td>\n",
       "      <td>55004</td>\n",
       "      <td>46923</td>\n",
       "      <td>63085</td>\n",
       "      <td>.</td>\n",
       "      <td>.</td>\n",
       "      <td>.</td>\n",
       "      <td>.</td>\n",
       "      <td>.</td>\n",
       "      <td>.</td>\n",
       "    </tr>\n",
       "    <tr>\n",
       "      <th>999</th>\n",
       "      <td>20</td>\n",
       "      <td>187</td>\n",
       "      <td>KS</td>\n",
       "      <td>Stanton County</td>\n",
       "      <td>196</td>\n",
       "      <td>145</td>\n",
       "      <td>247</td>\n",
       "      <td>10.2</td>\n",
       "      <td>7.5</td>\n",
       "      <td>12.9</td>\n",
       "      <td>...</td>\n",
       "      <td>17.6</td>\n",
       "      <td>68439</td>\n",
       "      <td>58090</td>\n",
       "      <td>78788</td>\n",
       "      <td>.</td>\n",
       "      <td>.</td>\n",
       "      <td>.</td>\n",
       "      <td>.</td>\n",
       "      <td>.</td>\n",
       "      <td>.</td>\n",
       "    </tr>\n",
       "  </tbody>\n",
       "</table></div>"
      ],
      "text/plain": [
       "     State FIPS Code  County FIPS Code Postal Code             Name  \\\n",
       "995               20               179          KS  Sheridan County   \n",
       "996               20               181          KS   Sherman County   \n",
       "997               20               183          KS     Smith County   \n",
       "998               20               185          KS  Stafford County   \n",
       "999               20               187          KS   Stanton County   \n",
       "\n",
       "     Poverty Estimate, All Ages  90% CI Lower Bound  90% CI Upper Bound  \\\n",
       "995                         260                 190                 330   \n",
       "996                         733                 556                 910   \n",
       "997                         356                 260                 452   \n",
       "998                         435                 319                 551   \n",
       "999                         196                 145                 247   \n",
       "\n",
       "     Poverty Percent, All Ages  90% CI Lower Bound_1  90% CI Upper Bound_2  \\\n",
       "995                       10.5                   7.7                  13.3   \n",
       "996                       13.0                   9.9                  16.1   \n",
       "997                       10.3                   7.5                  13.1   \n",
       "998                       11.0                   8.1                  13.9   \n",
       "999                       10.2                   7.5                  12.9   \n",
       "\n",
       "     ...  90% CI Upper Bound_10  Median Household Income  \\\n",
       "995  ...                   21.5                    58186   \n",
       "996  ...                   23.2                    52718   \n",
       "997  ...                   21.0                    49114   \n",
       "998  ...                   22.3                    55004   \n",
       "999  ...                   17.6                    68439   \n",
       "\n",
       "     90% CI Lower Bound_11  90% CI Upper Bound_12  Poverty Estimate, Age 0-4  \\\n",
       "995                  49325                  67047                          .   \n",
       "996                  44974                  60462                          .   \n",
       "997                  42585                  55643                          .   \n",
       "998                  46923                  63085                          .   \n",
       "999                  58090                  78788                          .   \n",
       "\n",
       "     90% CI Lower Bound_13  90% CI Upper Bound_14  Poverty Percent, Age 0-4  \\\n",
       "995                      .                      .                         .   \n",
       "996                      .                      .                         .   \n",
       "997                      .                      .                         .   \n",
       "998                      .                      .                         .   \n",
       "999                      .                      .                         .   \n",
       "\n",
       "     90% CI Lower Bound_15  90% CI Upper Bound_16  \n",
       "995                      .                      .  \n",
       "996                      .                      .  \n",
       "997                      .                      .  \n",
       "998                      .                      .  \n",
       "999                      .                      .  \n",
       "\n",
       "[5 rows x 31 columns]"
      ]
     },
     "execution_count": 82,
     "metadata": {},
     "output_type": "execute_result"
    }
   ],
   "source": [
    "# Check the tail of csv file\n",
    "\n",
    "df.tail()"
   ]
  },
  {
   "cell_type": "code",
   "execution_count": 83,
   "id": "d635c614",
   "metadata": {},
   "outputs": [
    {
     "data": {
      "text/plain": [
       "State FIPS Code                            18\n",
       "County FIPS Code                          189\n",
       "Postal Code                                18\n",
       "Name                                      702\n",
       "Poverty Estimate, All Ages                960\n",
       "90% CI Lower Bound                        948\n",
       "90% CI Upper Bound                        966\n",
       "Poverty Percent, All Ages                 220\n",
       "90% CI Lower Bound_1                      183\n",
       "90% CI Upper Bound_2                      254\n",
       "Poverty Estimate, Age 0-17                852\n",
       "90% CI Lower Bound_3                      810\n",
       "90% CI Upper Bound_4                      888\n",
       "Poverty Percent, Age 0-17                 313\n",
       "90% CI Lower Bound_5                      239\n",
       "90% CI Upper Bound_6                      381\n",
       "Poverty Estimate, Age 5-17 in Families    815\n",
       "90% CI Lower Bound_7                      746\n",
       "90% CI Upper Bound_8                      855\n",
       "Poverty Percent, Age 5-17 in Families     309\n",
       "90% CI Lower Bound_9                      228\n",
       "90% CI Upper Bound_10                     367\n",
       "Median Household Income                   986\n",
       "90% CI Lower Bound_11                     993\n",
       "90% CI Upper Bound_12                     984\n",
       "Poverty Estimate, Age 0-4                  19\n",
       "90% CI Lower Bound_13                      19\n",
       "90% CI Upper Bound_14                      19\n",
       "Poverty Percent, Age 0-4                   19\n",
       "90% CI Lower Bound_15                      16\n",
       "90% CI Upper Bound_16                      18\n",
       "dtype: int64"
      ]
     },
     "execution_count": 83,
     "metadata": {},
     "output_type": "execute_result"
    }
   ],
   "source": [
    "# Check sum total of rows and columns\n",
    "\n",
    "df.nunique()"
   ]
  },
  {
   "cell_type": "code",
   "execution_count": 84,
   "id": "f50f9711",
   "metadata": {},
   "outputs": [
    {
     "data": {
      "text/plain": [
       "(1000, 31)"
      ]
     },
     "execution_count": 84,
     "metadata": {},
     "output_type": "execute_result"
    }
   ],
   "source": [
    "# Check the shape of csv file\n",
    "\n",
    "df.shape"
   ]
  },
  {
   "cell_type": "code",
   "execution_count": 85,
   "id": "e8cab97e",
   "metadata": {},
   "outputs": [
    {
     "name": "stdout",
     "output_type": "stream",
     "text": [
      "<class 'pandas.core.frame.DataFrame'>\n",
      "RangeIndex: 1000 entries, 0 to 999\n",
      "Data columns (total 31 columns):\n",
      " #   Column                                  Non-Null Count  Dtype  \n",
      "---  ------                                  --------------  -----  \n",
      " 0   State FIPS Code                         1000 non-null   int64  \n",
      " 1   County FIPS Code                        1000 non-null   int64  \n",
      " 2   Postal Code                             1000 non-null   object \n",
      " 3   Name                                    1000 non-null   object \n",
      " 4   Poverty Estimate, All Ages              1000 non-null   int64  \n",
      " 5   90% CI Lower Bound                      1000 non-null   int64  \n",
      " 6   90% CI Upper Bound                      1000 non-null   int64  \n",
      " 7   Poverty Percent, All Ages               1000 non-null   float64\n",
      " 8   90% CI Lower Bound_1                    1000 non-null   float64\n",
      " 9   90% CI Upper Bound_2                    1000 non-null   float64\n",
      " 10  Poverty Estimate, Age 0-17              1000 non-null   int64  \n",
      " 11  90% CI Lower Bound_3                    1000 non-null   int64  \n",
      " 12  90% CI Upper Bound_4                    1000 non-null   int64  \n",
      " 13  Poverty Percent, Age 0-17               1000 non-null   float64\n",
      " 14  90% CI Lower Bound_5                    1000 non-null   float64\n",
      " 15  90% CI Upper Bound_6                    1000 non-null   float64\n",
      " 16  Poverty Estimate, Age 5-17 in Families  1000 non-null   int64  \n",
      " 17  90% CI Lower Bound_7                    1000 non-null   int64  \n",
      " 18  90% CI Upper Bound_8                    1000 non-null   int64  \n",
      " 19  Poverty Percent, Age 5-17 in Families   1000 non-null   float64\n",
      " 20  90% CI Lower Bound_9                    1000 non-null   float64\n",
      " 21  90% CI Upper Bound_10                   1000 non-null   float64\n",
      " 22  Median Household Income                 1000 non-null   int64  \n",
      " 23  90% CI Lower Bound_11                   1000 non-null   int64  \n",
      " 24  90% CI Upper Bound_12                   1000 non-null   int64  \n",
      " 25  Poverty Estimate, Age 0-4               1000 non-null   object \n",
      " 26  90% CI Lower Bound_13                   1000 non-null   object \n",
      " 27  90% CI Upper Bound_14                   1000 non-null   object \n",
      " 28  Poverty Percent, Age 0-4                1000 non-null   object \n",
      " 29  90% CI Lower Bound_15                   1000 non-null   object \n",
      " 30  90% CI Upper Bound_16                   1000 non-null   object \n",
      "dtypes: float64(9), int64(14), object(8)\n",
      "memory usage: 211.0+ KB\n"
     ]
    }
   ],
   "source": [
    "# Check data info\n",
    "\n",
    "df.info()"
   ]
  },
  {
   "cell_type": "code",
   "execution_count": 86,
   "id": "7f599614",
   "metadata": {},
   "outputs": [
    {
     "data": {
      "text/plain": [
       "State FIPS Code                             int64\n",
       "County FIPS Code                            int64\n",
       "Postal Code                                object\n",
       "Name                                       object\n",
       "Poverty Estimate, All Ages                  int64\n",
       "90% CI Lower Bound                          int64\n",
       "90% CI Upper Bound                          int64\n",
       "Poverty Percent, All Ages                 float64\n",
       "90% CI Lower Bound_1                      float64\n",
       "90% CI Upper Bound_2                      float64\n",
       "Poverty Estimate, Age 0-17                  int64\n",
       "90% CI Lower Bound_3                        int64\n",
       "90% CI Upper Bound_4                        int64\n",
       "Poverty Percent, Age 0-17                 float64\n",
       "90% CI Lower Bound_5                      float64\n",
       "90% CI Upper Bound_6                      float64\n",
       "Poverty Estimate, Age 5-17 in Families      int64\n",
       "90% CI Lower Bound_7                        int64\n",
       "90% CI Upper Bound_8                        int64\n",
       "Poverty Percent, Age 5-17 in Families     float64\n",
       "90% CI Lower Bound_9                      float64\n",
       "90% CI Upper Bound_10                     float64\n",
       "Median Household Income                     int64\n",
       "90% CI Lower Bound_11                       int64\n",
       "90% CI Upper Bound_12                       int64\n",
       "Poverty Estimate, Age 0-4                  object\n",
       "90% CI Lower Bound_13                      object\n",
       "90% CI Upper Bound_14                      object\n",
       "Poverty Percent, Age 0-4                   object\n",
       "90% CI Lower Bound_15                      object\n",
       "90% CI Upper Bound_16                      object\n",
       "dtype: object"
      ]
     },
     "execution_count": 86,
     "metadata": {},
     "output_type": "execute_result"
    }
   ],
   "source": [
    "# Check data type\n",
    "\n",
    "df.dtypes"
   ]
  },
  {
   "cell_type": "code",
   "execution_count": 87,
   "id": "0383679d",
   "metadata": {},
   "outputs": [],
   "source": [
    "# drop unecessary columns\n",
    "\n",
    "df = df.drop([\"Poverty Estimate, Age 0-4\", \"90% CI Lower Bound_13\", \"90% CI Upper Bound_14\",\n",
    "              \"Poverty Percent, Age 0-4\", \"90% CI Lower Bound_15\", \"90% CI Upper Bound_16\", \"90% CI Lower Bound\",\n",
    "              \"90% CI Upper Bound\", \"90% CI Lower Bound_1\", \"90% CI Upper Bound_2\", \"90% CI Lower Bound_3\",\n",
    "             \"90% CI Upper Bound_4\",\"90% CI Lower Bound_5\",\"90% CI Upper Bound_6\", \"90% CI Lower Bound_7\",\n",
    "              \"90% CI Upper Bound_8\", \"90% CI Lower Bound_9\", \"90% CI Upper Bound_10\", \n",
    "              \"90% CI Lower Bound_11\", \"90% CI Upper Bound_12\"], axis =1)"
   ]
  },
  {
   "cell_type": "code",
   "execution_count": 88,
   "id": "6bf1031c",
   "metadata": {},
   "outputs": [
    {
     "data": {
      "text/html": [
       "<div><div id=ac603a10-94dc-4d64-9fd4-57472f8888cf style=\"display:none; background-color:#9D6CFF; color:white; width:200px; height:30px; padding-left:5px; border-radius:4px; flex-direction:row; justify-content:space-around; align-items:center;\" onmouseover=\"this.style.backgroundColor='#BA9BF8'\" onmouseout=\"this.style.backgroundColor='#9D6CFF'\" onclick=\"window.commands?.execute('create-mitosheet-from-dataframe-output');\">See Full Dataframe in Mito</div> <script> if (window.commands.hasCommand('create-mitosheet-from-dataframe-output')) document.getElementById('ac603a10-94dc-4d64-9fd4-57472f8888cf').style.display = 'flex' </script> <table border=\"1\" class=\"dataframe\">\n",
       "  <thead>\n",
       "    <tr style=\"text-align: right;\">\n",
       "      <th></th>\n",
       "      <th>State FIPS Code</th>\n",
       "      <th>County FIPS Code</th>\n",
       "      <th>Postal Code</th>\n",
       "      <th>Name</th>\n",
       "      <th>Poverty Estimate, All Ages</th>\n",
       "      <th>Poverty Percent, All Ages</th>\n",
       "      <th>Poverty Estimate, Age 0-17</th>\n",
       "      <th>Poverty Percent, Age 0-17</th>\n",
       "      <th>Poverty Estimate, Age 5-17 in Families</th>\n",
       "      <th>Poverty Percent, Age 5-17 in Families</th>\n",
       "      <th>Median Household Income</th>\n",
       "    </tr>\n",
       "  </thead>\n",
       "  <tbody>\n",
       "    <tr>\n",
       "      <th>0</th>\n",
       "      <td>0</td>\n",
       "      <td>0</td>\n",
       "      <td>US</td>\n",
       "      <td>United States</td>\n",
       "      <td>38371394</td>\n",
       "      <td>11.9</td>\n",
       "      <td>11204423</td>\n",
       "      <td>15.7</td>\n",
       "      <td>7798566</td>\n",
       "      <td>14.9</td>\n",
       "      <td>67340</td>\n",
       "    </tr>\n",
       "    <tr>\n",
       "      <th>1</th>\n",
       "      <td>1</td>\n",
       "      <td>0</td>\n",
       "      <td>AL</td>\n",
       "      <td>Alabama</td>\n",
       "      <td>714568</td>\n",
       "      <td>14.9</td>\n",
       "      <td>222934</td>\n",
       "      <td>20.9</td>\n",
       "      <td>152810</td>\n",
       "      <td>19.7</td>\n",
       "      <td>53958</td>\n",
       "    </tr>\n",
       "    <tr>\n",
       "      <th>2</th>\n",
       "      <td>1</td>\n",
       "      <td>1</td>\n",
       "      <td>AL</td>\n",
       "      <td>Autauga County</td>\n",
       "      <td>6242</td>\n",
       "      <td>11.2</td>\n",
       "      <td>1912</td>\n",
       "      <td>14.9</td>\n",
       "      <td>1378</td>\n",
       "      <td>14.5</td>\n",
       "      <td>67565</td>\n",
       "    </tr>\n",
       "    <tr>\n",
       "      <th>3</th>\n",
       "      <td>1</td>\n",
       "      <td>3</td>\n",
       "      <td>AL</td>\n",
       "      <td>Baldwin County</td>\n",
       "      <td>20189</td>\n",
       "      <td>8.9</td>\n",
       "      <td>5907</td>\n",
       "      <td>12.4</td>\n",
       "      <td>4192</td>\n",
       "      <td>11.8</td>\n",
       "      <td>71135</td>\n",
       "    </tr>\n",
       "    <tr>\n",
       "      <th>4</th>\n",
       "      <td>1</td>\n",
       "      <td>5</td>\n",
       "      <td>AL</td>\n",
       "      <td>Barbour County</td>\n",
       "      <td>5548</td>\n",
       "      <td>25.5</td>\n",
       "      <td>1857</td>\n",
       "      <td>37.5</td>\n",
       "      <td>1303</td>\n",
       "      <td>35.8</td>\n",
       "      <td>38866</td>\n",
       "    </tr>\n",
       "  </tbody>\n",
       "</table></div>"
      ],
      "text/plain": [
       "   State FIPS Code  County FIPS Code Postal Code            Name  \\\n",
       "0                0                 0          US   United States   \n",
       "1                1                 0          AL         Alabama   \n",
       "2                1                 1          AL  Autauga County   \n",
       "3                1                 3          AL  Baldwin County   \n",
       "4                1                 5          AL  Barbour County   \n",
       "\n",
       "   Poverty Estimate, All Ages  Poverty Percent, All Ages  \\\n",
       "0                    38371394                       11.9   \n",
       "1                      714568                       14.9   \n",
       "2                        6242                       11.2   \n",
       "3                       20189                        8.9   \n",
       "4                        5548                       25.5   \n",
       "\n",
       "   Poverty Estimate, Age 0-17  Poverty Percent, Age 0-17  \\\n",
       "0                    11204423                       15.7   \n",
       "1                      222934                       20.9   \n",
       "2                        1912                       14.9   \n",
       "3                        5907                       12.4   \n",
       "4                        1857                       37.5   \n",
       "\n",
       "   Poverty Estimate, Age 5-17 in Families  \\\n",
       "0                                 7798566   \n",
       "1                                  152810   \n",
       "2                                    1378   \n",
       "3                                    4192   \n",
       "4                                    1303   \n",
       "\n",
       "   Poverty Percent, Age 5-17 in Families  Median Household Income  \n",
       "0                                   14.9                    67340  \n",
       "1                                   19.7                    53958  \n",
       "2                                   14.5                    67565  \n",
       "3                                   11.8                    71135  \n",
       "4                                   35.8                    38866  "
      ]
     },
     "execution_count": 88,
     "metadata": {},
     "output_type": "execute_result"
    }
   ],
   "source": [
    "# Checking the head of new data columns\n",
    "\n",
    "df.head()"
   ]
  },
  {
   "cell_type": "code",
   "execution_count": 89,
   "id": "2d4c09d1",
   "metadata": {},
   "outputs": [
    {
     "data": {
      "text/plain": [
       "State FIPS Code                           0\n",
       "County FIPS Code                          0\n",
       "Postal Code                               0\n",
       "Name                                      0\n",
       "Poverty Estimate, All Ages                0\n",
       "Poverty Percent, All Ages                 0\n",
       "Poverty Estimate, Age 0-17                0\n",
       "Poverty Percent, Age 0-17                 0\n",
       "Poverty Estimate, Age 5-17 in Families    0\n",
       "Poverty Percent, Age 5-17 in Families     0\n",
       "Median Household Income                   0\n",
       "dtype: int64"
      ]
     },
     "execution_count": 89,
     "metadata": {},
     "output_type": "execute_result"
    }
   ],
   "source": [
    "# Checking for null values - we have no null values\n",
    "\n",
    "df.isnull().sum()"
   ]
  },
  {
   "cell_type": "code",
   "execution_count": 90,
   "id": "6374e163",
   "metadata": {},
   "outputs": [
    {
     "data": {
      "text/html": [
       "<div><div id=9fff1299-6b5b-423d-89ad-6a4a1c6950f8 style=\"display:none; background-color:#9D6CFF; color:white; width:200px; height:30px; padding-left:5px; border-radius:4px; flex-direction:row; justify-content:space-around; align-items:center;\" onmouseover=\"this.style.backgroundColor='#BA9BF8'\" onmouseout=\"this.style.backgroundColor='#9D6CFF'\" onclick=\"window.commands?.execute('create-mitosheet-from-dataframe-output');\">See Full Dataframe in Mito</div> <script> if (window.commands.hasCommand('create-mitosheet-from-dataframe-output')) document.getElementById('9fff1299-6b5b-423d-89ad-6a4a1c6950f8').style.display = 'flex' </script> <table border=\"1\" class=\"dataframe\">\n",
       "  <thead>\n",
       "    <tr style=\"text-align: right;\">\n",
       "      <th></th>\n",
       "      <th>count</th>\n",
       "      <th>mean</th>\n",
       "      <th>std</th>\n",
       "      <th>min</th>\n",
       "      <th>25%</th>\n",
       "      <th>50%</th>\n",
       "      <th>75%</th>\n",
       "      <th>max</th>\n",
       "    </tr>\n",
       "  </thead>\n",
       "  <tbody>\n",
       "    <tr>\n",
       "      <th>State FIPS Code</th>\n",
       "      <td>1000.0</td>\n",
       "      <td>12.5070</td>\n",
       "      <td>6.090242e+00</td>\n",
       "      <td>0.0</td>\n",
       "      <td>6.00</td>\n",
       "      <td>13.00</td>\n",
       "      <td>18.00</td>\n",
       "      <td>20.0</td>\n",
       "    </tr>\n",
       "    <tr>\n",
       "      <th>County FIPS Code</th>\n",
       "      <td>1000.0</td>\n",
       "      <td>91.6390</td>\n",
       "      <td>6.960142e+01</td>\n",
       "      <td>0.0</td>\n",
       "      <td>36.50</td>\n",
       "      <td>81.00</td>\n",
       "      <td>131.00</td>\n",
       "      <td>321.0</td>\n",
       "    </tr>\n",
       "    <tr>\n",
       "      <th>Poverty Estimate, All Ages</th>\n",
       "      <td>1000.0</td>\n",
       "      <td>67879.0030</td>\n",
       "      <td>1.227221e+06</td>\n",
       "      <td>45.0</td>\n",
       "      <td>1437.75</td>\n",
       "      <td>3195.50</td>\n",
       "      <td>9650.25</td>\n",
       "      <td>38371394.0</td>\n",
       "    </tr>\n",
       "    <tr>\n",
       "      <th>Poverty Percent, All Ages</th>\n",
       "      <td>1000.0</td>\n",
       "      <td>13.5497</td>\n",
       "      <td>5.312499e+00</td>\n",
       "      <td>3.0</td>\n",
       "      <td>9.80</td>\n",
       "      <td>12.45</td>\n",
       "      <td>16.40</td>\n",
       "      <td>38.2</td>\n",
       "    </tr>\n",
       "    <tr>\n",
       "      <th>Poverty Estimate, Age 0-17</th>\n",
       "      <td>1000.0</td>\n",
       "      <td>19709.6280</td>\n",
       "      <td>3.581645e+05</td>\n",
       "      <td>9.0</td>\n",
       "      <td>406.50</td>\n",
       "      <td>943.00</td>\n",
       "      <td>2957.50</td>\n",
       "      <td>11204423.0</td>\n",
       "    </tr>\n",
       "    <tr>\n",
       "      <th>Poverty Percent, Age 0-17</th>\n",
       "      <td>1000.0</td>\n",
       "      <td>18.4396</td>\n",
       "      <td>8.095543e+00</td>\n",
       "      <td>2.6</td>\n",
       "      <td>12.50</td>\n",
       "      <td>16.75</td>\n",
       "      <td>23.10</td>\n",
       "      <td>50.1</td>\n",
       "    </tr>\n",
       "    <tr>\n",
       "      <th>Poverty Estimate, Age 5-17 in Families</th>\n",
       "      <td>1000.0</td>\n",
       "      <td>13768.8230</td>\n",
       "      <td>2.494033e+05</td>\n",
       "      <td>6.0</td>\n",
       "      <td>290.25</td>\n",
       "      <td>665.50</td>\n",
       "      <td>1973.25</td>\n",
       "      <td>7798566.0</td>\n",
       "    </tr>\n",
       "    <tr>\n",
       "      <th>Poverty Percent, Age 5-17 in Families</th>\n",
       "      <td>1000.0</td>\n",
       "      <td>17.5238</td>\n",
       "      <td>7.943954e+00</td>\n",
       "      <td>2.3</td>\n",
       "      <td>11.80</td>\n",
       "      <td>15.90</td>\n",
       "      <td>22.20</td>\n",
       "      <td>46.3</td>\n",
       "    </tr>\n",
       "    <tr>\n",
       "      <th>Median Household Income</th>\n",
       "      <td>1000.0</td>\n",
       "      <td>58441.4830</td>\n",
       "      <td>1.456346e+04</td>\n",
       "      <td>28004.0</td>\n",
       "      <td>48456.50</td>\n",
       "      <td>56290.50</td>\n",
       "      <td>65258.50</td>\n",
       "      <td>139462.0</td>\n",
       "    </tr>\n",
       "  </tbody>\n",
       "</table></div>"
      ],
      "text/plain": [
       "                                         count        mean           std  \\\n",
       "State FIPS Code                         1000.0     12.5070  6.090242e+00   \n",
       "County FIPS Code                        1000.0     91.6390  6.960142e+01   \n",
       "Poverty Estimate, All Ages              1000.0  67879.0030  1.227221e+06   \n",
       "Poverty Percent, All Ages               1000.0     13.5497  5.312499e+00   \n",
       "Poverty Estimate, Age 0-17              1000.0  19709.6280  3.581645e+05   \n",
       "Poverty Percent, Age 0-17               1000.0     18.4396  8.095543e+00   \n",
       "Poverty Estimate, Age 5-17 in Families  1000.0  13768.8230  2.494033e+05   \n",
       "Poverty Percent, Age 5-17 in Families   1000.0     17.5238  7.943954e+00   \n",
       "Median Household Income                 1000.0  58441.4830  1.456346e+04   \n",
       "\n",
       "                                            min       25%       50%       75%  \\\n",
       "State FIPS Code                             0.0      6.00     13.00     18.00   \n",
       "County FIPS Code                            0.0     36.50     81.00    131.00   \n",
       "Poverty Estimate, All Ages                 45.0   1437.75   3195.50   9650.25   \n",
       "Poverty Percent, All Ages                   3.0      9.80     12.45     16.40   \n",
       "Poverty Estimate, Age 0-17                  9.0    406.50    943.00   2957.50   \n",
       "Poverty Percent, Age 0-17                   2.6     12.50     16.75     23.10   \n",
       "Poverty Estimate, Age 5-17 in Families      6.0    290.25    665.50   1973.25   \n",
       "Poverty Percent, Age 5-17 in Families       2.3     11.80     15.90     22.20   \n",
       "Median Household Income                 28004.0  48456.50  56290.50  65258.50   \n",
       "\n",
       "                                               max  \n",
       "State FIPS Code                               20.0  \n",
       "County FIPS Code                             321.0  \n",
       "Poverty Estimate, All Ages              38371394.0  \n",
       "Poverty Percent, All Ages                     38.2  \n",
       "Poverty Estimate, Age 0-17              11204423.0  \n",
       "Poverty Percent, Age 0-17                     50.1  \n",
       "Poverty Estimate, Age 5-17 in Families   7798566.0  \n",
       "Poverty Percent, Age 5-17 in Families         46.3  \n",
       "Median Household Income                   139462.0  "
      ]
     },
     "execution_count": 90,
     "metadata": {},
     "output_type": "execute_result"
    }
   ],
   "source": [
    "# Check data statistical description\n",
    "\n",
    "df.describe().T"
   ]
  },
  {
   "cell_type": "code",
   "execution_count": 91,
   "id": "fc96186b",
   "metadata": {},
   "outputs": [
    {
     "data": {
      "text/html": [
       "<div><div id=3378acaa-bbf8-4004-9373-f067450e5c3b style=\"display:none; background-color:#9D6CFF; color:white; width:200px; height:30px; padding-left:5px; border-radius:4px; flex-direction:row; justify-content:space-around; align-items:center;\" onmouseover=\"this.style.backgroundColor='#BA9BF8'\" onmouseout=\"this.style.backgroundColor='#9D6CFF'\" onclick=\"window.commands?.execute('create-mitosheet-from-dataframe-output');\">See Full Dataframe in Mito</div> <script> if (window.commands.hasCommand('create-mitosheet-from-dataframe-output')) document.getElementById('3378acaa-bbf8-4004-9373-f067450e5c3b').style.display = 'flex' </script> <table border=\"1\" class=\"dataframe\">\n",
       "  <thead>\n",
       "    <tr style=\"text-align: right;\">\n",
       "      <th></th>\n",
       "      <th>Postal Code</th>\n",
       "      <th>Name</th>\n",
       "    </tr>\n",
       "  </thead>\n",
       "  <tbody>\n",
       "    <tr>\n",
       "      <th>0</th>\n",
       "      <td>US</td>\n",
       "      <td>United States</td>\n",
       "    </tr>\n",
       "    <tr>\n",
       "      <th>1</th>\n",
       "      <td>AL</td>\n",
       "      <td>Alabama</td>\n",
       "    </tr>\n",
       "    <tr>\n",
       "      <th>2</th>\n",
       "      <td>AL</td>\n",
       "      <td>Autauga County</td>\n",
       "    </tr>\n",
       "    <tr>\n",
       "      <th>3</th>\n",
       "      <td>AL</td>\n",
       "      <td>Baldwin County</td>\n",
       "    </tr>\n",
       "    <tr>\n",
       "      <th>4</th>\n",
       "      <td>AL</td>\n",
       "      <td>Barbour County</td>\n",
       "    </tr>\n",
       "  </tbody>\n",
       "</table></div>"
      ],
      "text/plain": [
       "  Postal Code            Name\n",
       "0          US   United States\n",
       "1          AL         Alabama\n",
       "2          AL  Autauga County\n",
       "3          AL  Baldwin County\n",
       "4          AL  Barbour County"
      ]
     },
     "execution_count": 91,
     "metadata": {},
     "output_type": "execute_result"
    }
   ],
   "source": [
    "# Check Category values in the data\n",
    "\n",
    "df_var = df.select_dtypes(\"object\").head()\n",
    "df_var.head()"
   ]
  },
  {
   "cell_type": "code",
   "execution_count": 92,
   "id": "0f8f0b7c",
   "metadata": {},
   "outputs": [
    {
     "data": {
      "text/html": [
       "<div><div id=3c91d075-7c2b-4e42-b273-e84e747ca714 style=\"display:none; background-color:#9D6CFF; color:white; width:200px; height:30px; padding-left:5px; border-radius:4px; flex-direction:row; justify-content:space-around; align-items:center;\" onmouseover=\"this.style.backgroundColor='#BA9BF8'\" onmouseout=\"this.style.backgroundColor='#9D6CFF'\" onclick=\"window.commands?.execute('create-mitosheet-from-dataframe-output');\">See Full Dataframe in Mito</div> <script> if (window.commands.hasCommand('create-mitosheet-from-dataframe-output')) document.getElementById('3c91d075-7c2b-4e42-b273-e84e747ca714').style.display = 'flex' </script> <table border=\"1\" class=\"dataframe\">\n",
       "  <thead>\n",
       "    <tr style=\"text-align: right;\">\n",
       "      <th></th>\n",
       "      <th>State FIPS Code</th>\n",
       "      <th>County FIPS Code</th>\n",
       "      <th>Poverty Estimate, All Ages</th>\n",
       "      <th>Poverty Percent, All Ages</th>\n",
       "      <th>Poverty Estimate, Age 0-17</th>\n",
       "      <th>Poverty Percent, Age 0-17</th>\n",
       "      <th>Poverty Estimate, Age 5-17 in Families</th>\n",
       "      <th>Poverty Percent, Age 5-17 in Families</th>\n",
       "      <th>Median Household Income</th>\n",
       "    </tr>\n",
       "  </thead>\n",
       "  <tbody>\n",
       "    <tr>\n",
       "      <th>0</th>\n",
       "      <td>0</td>\n",
       "      <td>0</td>\n",
       "      <td>38371394</td>\n",
       "      <td>11.9</td>\n",
       "      <td>11204423</td>\n",
       "      <td>15.7</td>\n",
       "      <td>7798566</td>\n",
       "      <td>14.9</td>\n",
       "      <td>67340</td>\n",
       "    </tr>\n",
       "    <tr>\n",
       "      <th>1</th>\n",
       "      <td>1</td>\n",
       "      <td>0</td>\n",
       "      <td>714568</td>\n",
       "      <td>14.9</td>\n",
       "      <td>222934</td>\n",
       "      <td>20.9</td>\n",
       "      <td>152810</td>\n",
       "      <td>19.7</td>\n",
       "      <td>53958</td>\n",
       "    </tr>\n",
       "    <tr>\n",
       "      <th>2</th>\n",
       "      <td>1</td>\n",
       "      <td>1</td>\n",
       "      <td>6242</td>\n",
       "      <td>11.2</td>\n",
       "      <td>1912</td>\n",
       "      <td>14.9</td>\n",
       "      <td>1378</td>\n",
       "      <td>14.5</td>\n",
       "      <td>67565</td>\n",
       "    </tr>\n",
       "    <tr>\n",
       "      <th>3</th>\n",
       "      <td>1</td>\n",
       "      <td>3</td>\n",
       "      <td>20189</td>\n",
       "      <td>8.9</td>\n",
       "      <td>5907</td>\n",
       "      <td>12.4</td>\n",
       "      <td>4192</td>\n",
       "      <td>11.8</td>\n",
       "      <td>71135</td>\n",
       "    </tr>\n",
       "    <tr>\n",
       "      <th>4</th>\n",
       "      <td>1</td>\n",
       "      <td>5</td>\n",
       "      <td>5548</td>\n",
       "      <td>25.5</td>\n",
       "      <td>1857</td>\n",
       "      <td>37.5</td>\n",
       "      <td>1303</td>\n",
       "      <td>35.8</td>\n",
       "      <td>38866</td>\n",
       "    </tr>\n",
       "  </tbody>\n",
       "</table></div>"
      ],
      "text/plain": [
       "   State FIPS Code  County FIPS Code  Poverty Estimate, All Ages  \\\n",
       "0                0                 0                    38371394   \n",
       "1                1                 0                      714568   \n",
       "2                1                 1                        6242   \n",
       "3                1                 3                       20189   \n",
       "4                1                 5                        5548   \n",
       "\n",
       "   Poverty Percent, All Ages  Poverty Estimate, Age 0-17  \\\n",
       "0                       11.9                    11204423   \n",
       "1                       14.9                      222934   \n",
       "2                       11.2                        1912   \n",
       "3                        8.9                        5907   \n",
       "4                       25.5                        1857   \n",
       "\n",
       "   Poverty Percent, Age 0-17  Poverty Estimate, Age 5-17 in Families  \\\n",
       "0                       15.7                                 7798566   \n",
       "1                       20.9                                  152810   \n",
       "2                       14.9                                    1378   \n",
       "3                       12.4                                    4192   \n",
       "4                       37.5                                    1303   \n",
       "\n",
       "   Poverty Percent, Age 5-17 in Families  Median Household Income  \n",
       "0                                   14.9                    67340  \n",
       "1                                   19.7                    53958  \n",
       "2                                   14.5                    67565  \n",
       "3                                   11.8                    71135  \n",
       "4                                   35.8                    38866  "
      ]
     },
     "execution_count": 92,
     "metadata": {},
     "output_type": "execute_result"
    }
   ],
   "source": [
    "# Check Numeric values in the data\n",
    "\n",
    "df_num = df.select_dtypes(\"number\")\n",
    "df_num.head()"
   ]
  },
  {
   "cell_type": "code",
   "execution_count": 93,
   "id": "0e6ea234",
   "metadata": {},
   "outputs": [],
   "source": [
    "# Relationship Analysis\n",
    "\n",
    "correlation = df.corr()"
   ]
  },
  {
   "cell_type": "code",
   "execution_count": 94,
   "id": "5469ba85",
   "metadata": {},
   "outputs": [
    {
     "data": {
      "application/vnd.plotly.v1+json": {
       "config": {
        "plotlyServerURL": "https://plot.ly"
       },
       "data": [
        {
         "coloraxis": "coloraxis",
         "hovertemplate": "x: %{x}<br>y: %{y}<br>color: %{z}<extra></extra>",
         "name": "0",
         "texttemplate": "%{z}",
         "type": "heatmap",
         "x": [
          "State FIPS Code",
          "County FIPS Code",
          "Poverty Estimate, All Ages",
          "Poverty Percent, All Ages",
          "Poverty Estimate, Age 0-17",
          "Poverty Percent, Age 0-17",
          "Poverty Estimate, Age 5-17 in Families",
          "Poverty Percent, Age 5-17 in Families",
          "Median Household Income"
         ],
         "xaxis": "x",
         "y": [
          "State FIPS Code",
          "County FIPS Code",
          "Poverty Estimate, All Ages",
          "Poverty Percent, All Ages",
          "Poverty Estimate, Age 0-17",
          "Poverty Percent, Age 0-17",
          "Poverty Estimate, Age 5-17 in Families",
          "Poverty Percent, Age 5-17 in Families",
          "Median Household Income"
         ],
         "yaxis": "y",
         "z": [
          [
           1,
           0.142382368695869,
           -0.07449721622127596,
           -0.32357784278442187,
           -0.07461088123951837,
           -0.33115705655843536,
           -0.0747272819489589,
           -0.3229619468860828,
           0.05585238594154421
          ],
          [
           0.142382368695869,
           1,
           -0.06111187485691697,
           0.14904596387858834,
           -0.060639114994535934,
           0.17292340152984817,
           -0.060821645026144656,
           0.17943377262282964,
           -0.13200179732118467
          ],
          [
           -0.07449721622127596,
           -0.06111187485691697,
           1,
           -0.014537325284063499,
           0.9999532830854002,
           -0.01640244089184441,
           0.9999568728362803,
           -0.015600547193191363,
           0.037190668862956425
          ],
          [
           -0.32357784278442187,
           0.14904596387858834,
           -0.014537325284063499,
           1,
           -0.013702518784144717,
           0.9359644183383775,
           -0.013748366344077792,
           0.928597691955843,
           -0.736144902072383
          ],
          [
           -0.07461088123951837,
           -0.060639114994535934,
           0.9999532830854002,
           -0.013702518784144717,
           1,
           -0.015245738617724982,
           0.9999930441410217,
           -0.014471518951147094,
           0.03563158326859011
          ],
          [
           -0.33115705655843536,
           0.17292340152984817,
           -0.01640244089184441,
           0.9359644183383775,
           -0.015245738617724982,
           1,
           -0.015286826572475654,
           0.9936496414232447,
           -0.7513099389088532
          ],
          [
           -0.0747272819489589,
           -0.060821645026144656,
           0.9999568728362803,
           -0.013748366344077792,
           0.9999930441410217,
           -0.015286826572475654,
           1,
           -0.01445058803570103,
           0.035942471707993466
          ],
          [
           -0.3229619468860828,
           0.17943377262282964,
           -0.015600547193191363,
           0.928597691955843,
           -0.014471518951147094,
           0.9936496414232447,
           -0.01445058803570103,
           1,
           -0.7446887965330824
          ],
          [
           0.05585238594154421,
           -0.13200179732118467,
           0.037190668862956425,
           -0.736144902072383,
           0.03563158326859011,
           -0.7513099389088532,
           0.035942471707993466,
           -0.7446887965330824,
           1
          ]
         ]
        }
       ],
       "layout": {
        "coloraxis": {
         "colorscale": [
          [
           0,
           "#0d0887"
          ],
          [
           0.1111111111111111,
           "#46039f"
          ],
          [
           0.2222222222222222,
           "#7201a8"
          ],
          [
           0.3333333333333333,
           "#9c179e"
          ],
          [
           0.4444444444444444,
           "#bd3786"
          ],
          [
           0.5555555555555556,
           "#d8576b"
          ],
          [
           0.6666666666666666,
           "#ed7953"
          ],
          [
           0.7777777777777778,
           "#fb9f3a"
          ],
          [
           0.8888888888888888,
           "#fdca26"
          ],
          [
           1,
           "#f0f921"
          ]
         ]
        },
        "margin": {
         "t": 60
        },
        "template": {
         "data": {
          "bar": [
           {
            "error_x": {
             "color": "#2a3f5f"
            },
            "error_y": {
             "color": "#2a3f5f"
            },
            "marker": {
             "line": {
              "color": "#E5ECF6",
              "width": 0.5
             },
             "pattern": {
              "fillmode": "overlay",
              "size": 10,
              "solidity": 0.2
             }
            },
            "type": "bar"
           }
          ],
          "barpolar": [
           {
            "marker": {
             "line": {
              "color": "#E5ECF6",
              "width": 0.5
             },
             "pattern": {
              "fillmode": "overlay",
              "size": 10,
              "solidity": 0.2
             }
            },
            "type": "barpolar"
           }
          ],
          "carpet": [
           {
            "aaxis": {
             "endlinecolor": "#2a3f5f",
             "gridcolor": "white",
             "linecolor": "white",
             "minorgridcolor": "white",
             "startlinecolor": "#2a3f5f"
            },
            "baxis": {
             "endlinecolor": "#2a3f5f",
             "gridcolor": "white",
             "linecolor": "white",
             "minorgridcolor": "white",
             "startlinecolor": "#2a3f5f"
            },
            "type": "carpet"
           }
          ],
          "choropleth": [
           {
            "colorbar": {
             "outlinewidth": 0,
             "ticks": ""
            },
            "type": "choropleth"
           }
          ],
          "contour": [
           {
            "colorbar": {
             "outlinewidth": 0,
             "ticks": ""
            },
            "colorscale": [
             [
              0,
              "#0d0887"
             ],
             [
              0.1111111111111111,
              "#46039f"
             ],
             [
              0.2222222222222222,
              "#7201a8"
             ],
             [
              0.3333333333333333,
              "#9c179e"
             ],
             [
              0.4444444444444444,
              "#bd3786"
             ],
             [
              0.5555555555555556,
              "#d8576b"
             ],
             [
              0.6666666666666666,
              "#ed7953"
             ],
             [
              0.7777777777777778,
              "#fb9f3a"
             ],
             [
              0.8888888888888888,
              "#fdca26"
             ],
             [
              1,
              "#f0f921"
             ]
            ],
            "type": "contour"
           }
          ],
          "contourcarpet": [
           {
            "colorbar": {
             "outlinewidth": 0,
             "ticks": ""
            },
            "type": "contourcarpet"
           }
          ],
          "heatmap": [
           {
            "colorbar": {
             "outlinewidth": 0,
             "ticks": ""
            },
            "colorscale": [
             [
              0,
              "#0d0887"
             ],
             [
              0.1111111111111111,
              "#46039f"
             ],
             [
              0.2222222222222222,
              "#7201a8"
             ],
             [
              0.3333333333333333,
              "#9c179e"
             ],
             [
              0.4444444444444444,
              "#bd3786"
             ],
             [
              0.5555555555555556,
              "#d8576b"
             ],
             [
              0.6666666666666666,
              "#ed7953"
             ],
             [
              0.7777777777777778,
              "#fb9f3a"
             ],
             [
              0.8888888888888888,
              "#fdca26"
             ],
             [
              1,
              "#f0f921"
             ]
            ],
            "type": "heatmap"
           }
          ],
          "heatmapgl": [
           {
            "colorbar": {
             "outlinewidth": 0,
             "ticks": ""
            },
            "colorscale": [
             [
              0,
              "#0d0887"
             ],
             [
              0.1111111111111111,
              "#46039f"
             ],
             [
              0.2222222222222222,
              "#7201a8"
             ],
             [
              0.3333333333333333,
              "#9c179e"
             ],
             [
              0.4444444444444444,
              "#bd3786"
             ],
             [
              0.5555555555555556,
              "#d8576b"
             ],
             [
              0.6666666666666666,
              "#ed7953"
             ],
             [
              0.7777777777777778,
              "#fb9f3a"
             ],
             [
              0.8888888888888888,
              "#fdca26"
             ],
             [
              1,
              "#f0f921"
             ]
            ],
            "type": "heatmapgl"
           }
          ],
          "histogram": [
           {
            "marker": {
             "pattern": {
              "fillmode": "overlay",
              "size": 10,
              "solidity": 0.2
             }
            },
            "type": "histogram"
           }
          ],
          "histogram2d": [
           {
            "colorbar": {
             "outlinewidth": 0,
             "ticks": ""
            },
            "colorscale": [
             [
              0,
              "#0d0887"
             ],
             [
              0.1111111111111111,
              "#46039f"
             ],
             [
              0.2222222222222222,
              "#7201a8"
             ],
             [
              0.3333333333333333,
              "#9c179e"
             ],
             [
              0.4444444444444444,
              "#bd3786"
             ],
             [
              0.5555555555555556,
              "#d8576b"
             ],
             [
              0.6666666666666666,
              "#ed7953"
             ],
             [
              0.7777777777777778,
              "#fb9f3a"
             ],
             [
              0.8888888888888888,
              "#fdca26"
             ],
             [
              1,
              "#f0f921"
             ]
            ],
            "type": "histogram2d"
           }
          ],
          "histogram2dcontour": [
           {
            "colorbar": {
             "outlinewidth": 0,
             "ticks": ""
            },
            "colorscale": [
             [
              0,
              "#0d0887"
             ],
             [
              0.1111111111111111,
              "#46039f"
             ],
             [
              0.2222222222222222,
              "#7201a8"
             ],
             [
              0.3333333333333333,
              "#9c179e"
             ],
             [
              0.4444444444444444,
              "#bd3786"
             ],
             [
              0.5555555555555556,
              "#d8576b"
             ],
             [
              0.6666666666666666,
              "#ed7953"
             ],
             [
              0.7777777777777778,
              "#fb9f3a"
             ],
             [
              0.8888888888888888,
              "#fdca26"
             ],
             [
              1,
              "#f0f921"
             ]
            ],
            "type": "histogram2dcontour"
           }
          ],
          "mesh3d": [
           {
            "colorbar": {
             "outlinewidth": 0,
             "ticks": ""
            },
            "type": "mesh3d"
           }
          ],
          "parcoords": [
           {
            "line": {
             "colorbar": {
              "outlinewidth": 0,
              "ticks": ""
             }
            },
            "type": "parcoords"
           }
          ],
          "pie": [
           {
            "automargin": true,
            "type": "pie"
           }
          ],
          "scatter": [
           {
            "fillpattern": {
             "fillmode": "overlay",
             "size": 10,
             "solidity": 0.2
            },
            "type": "scatter"
           }
          ],
          "scatter3d": [
           {
            "line": {
             "colorbar": {
              "outlinewidth": 0,
              "ticks": ""
             }
            },
            "marker": {
             "colorbar": {
              "outlinewidth": 0,
              "ticks": ""
             }
            },
            "type": "scatter3d"
           }
          ],
          "scattercarpet": [
           {
            "marker": {
             "colorbar": {
              "outlinewidth": 0,
              "ticks": ""
             }
            },
            "type": "scattercarpet"
           }
          ],
          "scattergeo": [
           {
            "marker": {
             "colorbar": {
              "outlinewidth": 0,
              "ticks": ""
             }
            },
            "type": "scattergeo"
           }
          ],
          "scattergl": [
           {
            "marker": {
             "colorbar": {
              "outlinewidth": 0,
              "ticks": ""
             }
            },
            "type": "scattergl"
           }
          ],
          "scattermapbox": [
           {
            "marker": {
             "colorbar": {
              "outlinewidth": 0,
              "ticks": ""
             }
            },
            "type": "scattermapbox"
           }
          ],
          "scatterpolar": [
           {
            "marker": {
             "colorbar": {
              "outlinewidth": 0,
              "ticks": ""
             }
            },
            "type": "scatterpolar"
           }
          ],
          "scatterpolargl": [
           {
            "marker": {
             "colorbar": {
              "outlinewidth": 0,
              "ticks": ""
             }
            },
            "type": "scatterpolargl"
           }
          ],
          "scatterternary": [
           {
            "marker": {
             "colorbar": {
              "outlinewidth": 0,
              "ticks": ""
             }
            },
            "type": "scatterternary"
           }
          ],
          "surface": [
           {
            "colorbar": {
             "outlinewidth": 0,
             "ticks": ""
            },
            "colorscale": [
             [
              0,
              "#0d0887"
             ],
             [
              0.1111111111111111,
              "#46039f"
             ],
             [
              0.2222222222222222,
              "#7201a8"
             ],
             [
              0.3333333333333333,
              "#9c179e"
             ],
             [
              0.4444444444444444,
              "#bd3786"
             ],
             [
              0.5555555555555556,
              "#d8576b"
             ],
             [
              0.6666666666666666,
              "#ed7953"
             ],
             [
              0.7777777777777778,
              "#fb9f3a"
             ],
             [
              0.8888888888888888,
              "#fdca26"
             ],
             [
              1,
              "#f0f921"
             ]
            ],
            "type": "surface"
           }
          ],
          "table": [
           {
            "cells": {
             "fill": {
              "color": "#EBF0F8"
             },
             "line": {
              "color": "white"
             }
            },
            "header": {
             "fill": {
              "color": "#C8D4E3"
             },
             "line": {
              "color": "white"
             }
            },
            "type": "table"
           }
          ]
         },
         "layout": {
          "annotationdefaults": {
           "arrowcolor": "#2a3f5f",
           "arrowhead": 0,
           "arrowwidth": 1
          },
          "autotypenumbers": "strict",
          "coloraxis": {
           "colorbar": {
            "outlinewidth": 0,
            "ticks": ""
           }
          },
          "colorscale": {
           "diverging": [
            [
             0,
             "#8e0152"
            ],
            [
             0.1,
             "#c51b7d"
            ],
            [
             0.2,
             "#de77ae"
            ],
            [
             0.3,
             "#f1b6da"
            ],
            [
             0.4,
             "#fde0ef"
            ],
            [
             0.5,
             "#f7f7f7"
            ],
            [
             0.6,
             "#e6f5d0"
            ],
            [
             0.7,
             "#b8e186"
            ],
            [
             0.8,
             "#7fbc41"
            ],
            [
             0.9,
             "#4d9221"
            ],
            [
             1,
             "#276419"
            ]
           ],
           "sequential": [
            [
             0,
             "#0d0887"
            ],
            [
             0.1111111111111111,
             "#46039f"
            ],
            [
             0.2222222222222222,
             "#7201a8"
            ],
            [
             0.3333333333333333,
             "#9c179e"
            ],
            [
             0.4444444444444444,
             "#bd3786"
            ],
            [
             0.5555555555555556,
             "#d8576b"
            ],
            [
             0.6666666666666666,
             "#ed7953"
            ],
            [
             0.7777777777777778,
             "#fb9f3a"
            ],
            [
             0.8888888888888888,
             "#fdca26"
            ],
            [
             1,
             "#f0f921"
            ]
           ],
           "sequentialminus": [
            [
             0,
             "#0d0887"
            ],
            [
             0.1111111111111111,
             "#46039f"
            ],
            [
             0.2222222222222222,
             "#7201a8"
            ],
            [
             0.3333333333333333,
             "#9c179e"
            ],
            [
             0.4444444444444444,
             "#bd3786"
            ],
            [
             0.5555555555555556,
             "#d8576b"
            ],
            [
             0.6666666666666666,
             "#ed7953"
            ],
            [
             0.7777777777777778,
             "#fb9f3a"
            ],
            [
             0.8888888888888888,
             "#fdca26"
            ],
            [
             1,
             "#f0f921"
            ]
           ]
          },
          "colorway": [
           "#636efa",
           "#EF553B",
           "#00cc96",
           "#ab63fa",
           "#FFA15A",
           "#19d3f3",
           "#FF6692",
           "#B6E880",
           "#FF97FF",
           "#FECB52"
          ],
          "font": {
           "color": "#2a3f5f"
          },
          "geo": {
           "bgcolor": "white",
           "lakecolor": "white",
           "landcolor": "#E5ECF6",
           "showlakes": true,
           "showland": true,
           "subunitcolor": "white"
          },
          "hoverlabel": {
           "align": "left"
          },
          "hovermode": "closest",
          "mapbox": {
           "style": "light"
          },
          "paper_bgcolor": "white",
          "plot_bgcolor": "#E5ECF6",
          "polar": {
           "angularaxis": {
            "gridcolor": "white",
            "linecolor": "white",
            "ticks": ""
           },
           "bgcolor": "#E5ECF6",
           "radialaxis": {
            "gridcolor": "white",
            "linecolor": "white",
            "ticks": ""
           }
          },
          "scene": {
           "xaxis": {
            "backgroundcolor": "#E5ECF6",
            "gridcolor": "white",
            "gridwidth": 2,
            "linecolor": "white",
            "showbackground": true,
            "ticks": "",
            "zerolinecolor": "white"
           },
           "yaxis": {
            "backgroundcolor": "#E5ECF6",
            "gridcolor": "white",
            "gridwidth": 2,
            "linecolor": "white",
            "showbackground": true,
            "ticks": "",
            "zerolinecolor": "white"
           },
           "zaxis": {
            "backgroundcolor": "#E5ECF6",
            "gridcolor": "white",
            "gridwidth": 2,
            "linecolor": "white",
            "showbackground": true,
            "ticks": "",
            "zerolinecolor": "white"
           }
          },
          "shapedefaults": {
           "line": {
            "color": "#2a3f5f"
           }
          },
          "ternary": {
           "aaxis": {
            "gridcolor": "white",
            "linecolor": "white",
            "ticks": ""
           },
           "baxis": {
            "gridcolor": "white",
            "linecolor": "white",
            "ticks": ""
           },
           "bgcolor": "#E5ECF6",
           "caxis": {
            "gridcolor": "white",
            "linecolor": "white",
            "ticks": ""
           }
          },
          "title": {
           "x": 0.05
          },
          "xaxis": {
           "automargin": true,
           "gridcolor": "white",
           "linecolor": "white",
           "ticks": "",
           "title": {
            "standoff": 15
           },
           "zerolinecolor": "white",
           "zerolinewidth": 2
          },
          "yaxis": {
           "automargin": true,
           "gridcolor": "white",
           "linecolor": "white",
           "ticks": "",
           "title": {
            "standoff": 15
           },
           "zerolinecolor": "white",
           "zerolinewidth": 2
          }
         }
        },
        "xaxis": {
         "anchor": "y",
         "domain": [
          0,
          1
         ]
        },
        "yaxis": {
         "anchor": "x",
         "autorange": "reversed",
         "domain": [
          0,
          1
         ]
        }
       }
      },
      "text/html": [
       "<div>                            <div id=\"82740b99-e485-4071-bd15-157a5ed17a5c\" class=\"plotly-graph-div\" style=\"height:525px; width:100%;\"></div>            <script type=\"text/javascript\">                require([\"plotly\"], function(Plotly) {                    window.PLOTLYENV=window.PLOTLYENV || {};                                    if (document.getElementById(\"82740b99-e485-4071-bd15-157a5ed17a5c\")) {                    Plotly.newPlot(                        \"82740b99-e485-4071-bd15-157a5ed17a5c\",                        [{\"coloraxis\":\"coloraxis\",\"name\":\"0\",\"texttemplate\":\"%{z}\",\"x\":[\"State FIPS Code\",\"County FIPS Code\",\"Poverty Estimate, All Ages\",\"Poverty Percent, All Ages\",\"Poverty Estimate, Age 0-17\",\"Poverty Percent, Age 0-17\",\"Poverty Estimate, Age 5-17 in Families\",\"Poverty Percent, Age 5-17 in Families\",\"Median Household Income\"],\"y\":[\"State FIPS Code\",\"County FIPS Code\",\"Poverty Estimate, All Ages\",\"Poverty Percent, All Ages\",\"Poverty Estimate, Age 0-17\",\"Poverty Percent, Age 0-17\",\"Poverty Estimate, Age 5-17 in Families\",\"Poverty Percent, Age 5-17 in Families\",\"Median Household Income\"],\"z\":[[1.0,0.142382368695869,-0.07449721622127596,-0.32357784278442187,-0.07461088123951837,-0.33115705655843536,-0.0747272819489589,-0.3229619468860828,0.05585238594154421],[0.142382368695869,1.0,-0.06111187485691697,0.14904596387858834,-0.060639114994535934,0.17292340152984817,-0.060821645026144656,0.17943377262282964,-0.13200179732118467],[-0.07449721622127596,-0.06111187485691697,1.0,-0.014537325284063499,0.9999532830854002,-0.01640244089184441,0.9999568728362803,-0.015600547193191363,0.037190668862956425],[-0.32357784278442187,0.14904596387858834,-0.014537325284063499,1.0,-0.013702518784144717,0.9359644183383775,-0.013748366344077792,0.928597691955843,-0.736144902072383],[-0.07461088123951837,-0.060639114994535934,0.9999532830854002,-0.013702518784144717,1.0,-0.015245738617724982,0.9999930441410217,-0.014471518951147094,0.03563158326859011],[-0.33115705655843536,0.17292340152984817,-0.01640244089184441,0.9359644183383775,-0.015245738617724982,1.0,-0.015286826572475654,0.9936496414232447,-0.7513099389088532],[-0.0747272819489589,-0.060821645026144656,0.9999568728362803,-0.013748366344077792,0.9999930441410217,-0.015286826572475654,1.0,-0.01445058803570103,0.035942471707993466],[-0.3229619468860828,0.17943377262282964,-0.015600547193191363,0.928597691955843,-0.014471518951147094,0.9936496414232447,-0.01445058803570103,1.0,-0.7446887965330824],[0.05585238594154421,-0.13200179732118467,0.037190668862956425,-0.736144902072383,0.03563158326859011,-0.7513099389088532,0.035942471707993466,-0.7446887965330824,1.0]],\"type\":\"heatmap\",\"xaxis\":\"x\",\"yaxis\":\"y\",\"hovertemplate\":\"x: %{x}<br>y: %{y}<br>color: %{z}<extra></extra>\"}],                        {\"template\":{\"data\":{\"histogram2dcontour\":[{\"type\":\"histogram2dcontour\",\"colorbar\":{\"outlinewidth\":0,\"ticks\":\"\"},\"colorscale\":[[0.0,\"#0d0887\"],[0.1111111111111111,\"#46039f\"],[0.2222222222222222,\"#7201a8\"],[0.3333333333333333,\"#9c179e\"],[0.4444444444444444,\"#bd3786\"],[0.5555555555555556,\"#d8576b\"],[0.6666666666666666,\"#ed7953\"],[0.7777777777777778,\"#fb9f3a\"],[0.8888888888888888,\"#fdca26\"],[1.0,\"#f0f921\"]]}],\"choropleth\":[{\"type\":\"choropleth\",\"colorbar\":{\"outlinewidth\":0,\"ticks\":\"\"}}],\"histogram2d\":[{\"type\":\"histogram2d\",\"colorbar\":{\"outlinewidth\":0,\"ticks\":\"\"},\"colorscale\":[[0.0,\"#0d0887\"],[0.1111111111111111,\"#46039f\"],[0.2222222222222222,\"#7201a8\"],[0.3333333333333333,\"#9c179e\"],[0.4444444444444444,\"#bd3786\"],[0.5555555555555556,\"#d8576b\"],[0.6666666666666666,\"#ed7953\"],[0.7777777777777778,\"#fb9f3a\"],[0.8888888888888888,\"#fdca26\"],[1.0,\"#f0f921\"]]}],\"heatmap\":[{\"type\":\"heatmap\",\"colorbar\":{\"outlinewidth\":0,\"ticks\":\"\"},\"colorscale\":[[0.0,\"#0d0887\"],[0.1111111111111111,\"#46039f\"],[0.2222222222222222,\"#7201a8\"],[0.3333333333333333,\"#9c179e\"],[0.4444444444444444,\"#bd3786\"],[0.5555555555555556,\"#d8576b\"],[0.6666666666666666,\"#ed7953\"],[0.7777777777777778,\"#fb9f3a\"],[0.8888888888888888,\"#fdca26\"],[1.0,\"#f0f921\"]]}],\"heatmapgl\":[{\"type\":\"heatmapgl\",\"colorbar\":{\"outlinewidth\":0,\"ticks\":\"\"},\"colorscale\":[[0.0,\"#0d0887\"],[0.1111111111111111,\"#46039f\"],[0.2222222222222222,\"#7201a8\"],[0.3333333333333333,\"#9c179e\"],[0.4444444444444444,\"#bd3786\"],[0.5555555555555556,\"#d8576b\"],[0.6666666666666666,\"#ed7953\"],[0.7777777777777778,\"#fb9f3a\"],[0.8888888888888888,\"#fdca26\"],[1.0,\"#f0f921\"]]}],\"contourcarpet\":[{\"type\":\"contourcarpet\",\"colorbar\":{\"outlinewidth\":0,\"ticks\":\"\"}}],\"contour\":[{\"type\":\"contour\",\"colorbar\":{\"outlinewidth\":0,\"ticks\":\"\"},\"colorscale\":[[0.0,\"#0d0887\"],[0.1111111111111111,\"#46039f\"],[0.2222222222222222,\"#7201a8\"],[0.3333333333333333,\"#9c179e\"],[0.4444444444444444,\"#bd3786\"],[0.5555555555555556,\"#d8576b\"],[0.6666666666666666,\"#ed7953\"],[0.7777777777777778,\"#fb9f3a\"],[0.8888888888888888,\"#fdca26\"],[1.0,\"#f0f921\"]]}],\"surface\":[{\"type\":\"surface\",\"colorbar\":{\"outlinewidth\":0,\"ticks\":\"\"},\"colorscale\":[[0.0,\"#0d0887\"],[0.1111111111111111,\"#46039f\"],[0.2222222222222222,\"#7201a8\"],[0.3333333333333333,\"#9c179e\"],[0.4444444444444444,\"#bd3786\"],[0.5555555555555556,\"#d8576b\"],[0.6666666666666666,\"#ed7953\"],[0.7777777777777778,\"#fb9f3a\"],[0.8888888888888888,\"#fdca26\"],[1.0,\"#f0f921\"]]}],\"mesh3d\":[{\"type\":\"mesh3d\",\"colorbar\":{\"outlinewidth\":0,\"ticks\":\"\"}}],\"scatter\":[{\"fillpattern\":{\"fillmode\":\"overlay\",\"size\":10,\"solidity\":0.2},\"type\":\"scatter\"}],\"parcoords\":[{\"type\":\"parcoords\",\"line\":{\"colorbar\":{\"outlinewidth\":0,\"ticks\":\"\"}}}],\"scatterpolargl\":[{\"type\":\"scatterpolargl\",\"marker\":{\"colorbar\":{\"outlinewidth\":0,\"ticks\":\"\"}}}],\"bar\":[{\"error_x\":{\"color\":\"#2a3f5f\"},\"error_y\":{\"color\":\"#2a3f5f\"},\"marker\":{\"line\":{\"color\":\"#E5ECF6\",\"width\":0.5},\"pattern\":{\"fillmode\":\"overlay\",\"size\":10,\"solidity\":0.2}},\"type\":\"bar\"}],\"scattergeo\":[{\"type\":\"scattergeo\",\"marker\":{\"colorbar\":{\"outlinewidth\":0,\"ticks\":\"\"}}}],\"scatterpolar\":[{\"type\":\"scatterpolar\",\"marker\":{\"colorbar\":{\"outlinewidth\":0,\"ticks\":\"\"}}}],\"histogram\":[{\"marker\":{\"pattern\":{\"fillmode\":\"overlay\",\"size\":10,\"solidity\":0.2}},\"type\":\"histogram\"}],\"scattergl\":[{\"type\":\"scattergl\",\"marker\":{\"colorbar\":{\"outlinewidth\":0,\"ticks\":\"\"}}}],\"scatter3d\":[{\"type\":\"scatter3d\",\"line\":{\"colorbar\":{\"outlinewidth\":0,\"ticks\":\"\"}},\"marker\":{\"colorbar\":{\"outlinewidth\":0,\"ticks\":\"\"}}}],\"scattermapbox\":[{\"type\":\"scattermapbox\",\"marker\":{\"colorbar\":{\"outlinewidth\":0,\"ticks\":\"\"}}}],\"scatterternary\":[{\"type\":\"scatterternary\",\"marker\":{\"colorbar\":{\"outlinewidth\":0,\"ticks\":\"\"}}}],\"scattercarpet\":[{\"type\":\"scattercarpet\",\"marker\":{\"colorbar\":{\"outlinewidth\":0,\"ticks\":\"\"}}}],\"carpet\":[{\"aaxis\":{\"endlinecolor\":\"#2a3f5f\",\"gridcolor\":\"white\",\"linecolor\":\"white\",\"minorgridcolor\":\"white\",\"startlinecolor\":\"#2a3f5f\"},\"baxis\":{\"endlinecolor\":\"#2a3f5f\",\"gridcolor\":\"white\",\"linecolor\":\"white\",\"minorgridcolor\":\"white\",\"startlinecolor\":\"#2a3f5f\"},\"type\":\"carpet\"}],\"table\":[{\"cells\":{\"fill\":{\"color\":\"#EBF0F8\"},\"line\":{\"color\":\"white\"}},\"header\":{\"fill\":{\"color\":\"#C8D4E3\"},\"line\":{\"color\":\"white\"}},\"type\":\"table\"}],\"barpolar\":[{\"marker\":{\"line\":{\"color\":\"#E5ECF6\",\"width\":0.5},\"pattern\":{\"fillmode\":\"overlay\",\"size\":10,\"solidity\":0.2}},\"type\":\"barpolar\"}],\"pie\":[{\"automargin\":true,\"type\":\"pie\"}]},\"layout\":{\"autotypenumbers\":\"strict\",\"colorway\":[\"#636efa\",\"#EF553B\",\"#00cc96\",\"#ab63fa\",\"#FFA15A\",\"#19d3f3\",\"#FF6692\",\"#B6E880\",\"#FF97FF\",\"#FECB52\"],\"font\":{\"color\":\"#2a3f5f\"},\"hovermode\":\"closest\",\"hoverlabel\":{\"align\":\"left\"},\"paper_bgcolor\":\"white\",\"plot_bgcolor\":\"#E5ECF6\",\"polar\":{\"bgcolor\":\"#E5ECF6\",\"angularaxis\":{\"gridcolor\":\"white\",\"linecolor\":\"white\",\"ticks\":\"\"},\"radialaxis\":{\"gridcolor\":\"white\",\"linecolor\":\"white\",\"ticks\":\"\"}},\"ternary\":{\"bgcolor\":\"#E5ECF6\",\"aaxis\":{\"gridcolor\":\"white\",\"linecolor\":\"white\",\"ticks\":\"\"},\"baxis\":{\"gridcolor\":\"white\",\"linecolor\":\"white\",\"ticks\":\"\"},\"caxis\":{\"gridcolor\":\"white\",\"linecolor\":\"white\",\"ticks\":\"\"}},\"coloraxis\":{\"colorbar\":{\"outlinewidth\":0,\"ticks\":\"\"}},\"colorscale\":{\"sequential\":[[0.0,\"#0d0887\"],[0.1111111111111111,\"#46039f\"],[0.2222222222222222,\"#7201a8\"],[0.3333333333333333,\"#9c179e\"],[0.4444444444444444,\"#bd3786\"],[0.5555555555555556,\"#d8576b\"],[0.6666666666666666,\"#ed7953\"],[0.7777777777777778,\"#fb9f3a\"],[0.8888888888888888,\"#fdca26\"],[1.0,\"#f0f921\"]],\"sequentialminus\":[[0.0,\"#0d0887\"],[0.1111111111111111,\"#46039f\"],[0.2222222222222222,\"#7201a8\"],[0.3333333333333333,\"#9c179e\"],[0.4444444444444444,\"#bd3786\"],[0.5555555555555556,\"#d8576b\"],[0.6666666666666666,\"#ed7953\"],[0.7777777777777778,\"#fb9f3a\"],[0.8888888888888888,\"#fdca26\"],[1.0,\"#f0f921\"]],\"diverging\":[[0,\"#8e0152\"],[0.1,\"#c51b7d\"],[0.2,\"#de77ae\"],[0.3,\"#f1b6da\"],[0.4,\"#fde0ef\"],[0.5,\"#f7f7f7\"],[0.6,\"#e6f5d0\"],[0.7,\"#b8e186\"],[0.8,\"#7fbc41\"],[0.9,\"#4d9221\"],[1,\"#276419\"]]},\"xaxis\":{\"gridcolor\":\"white\",\"linecolor\":\"white\",\"ticks\":\"\",\"title\":{\"standoff\":15},\"zerolinecolor\":\"white\",\"automargin\":true,\"zerolinewidth\":2},\"yaxis\":{\"gridcolor\":\"white\",\"linecolor\":\"white\",\"ticks\":\"\",\"title\":{\"standoff\":15},\"zerolinecolor\":\"white\",\"automargin\":true,\"zerolinewidth\":2},\"scene\":{\"xaxis\":{\"backgroundcolor\":\"#E5ECF6\",\"gridcolor\":\"white\",\"linecolor\":\"white\",\"showbackground\":true,\"ticks\":\"\",\"zerolinecolor\":\"white\",\"gridwidth\":2},\"yaxis\":{\"backgroundcolor\":\"#E5ECF6\",\"gridcolor\":\"white\",\"linecolor\":\"white\",\"showbackground\":true,\"ticks\":\"\",\"zerolinecolor\":\"white\",\"gridwidth\":2},\"zaxis\":{\"backgroundcolor\":\"#E5ECF6\",\"gridcolor\":\"white\",\"linecolor\":\"white\",\"showbackground\":true,\"ticks\":\"\",\"zerolinecolor\":\"white\",\"gridwidth\":2}},\"shapedefaults\":{\"line\":{\"color\":\"#2a3f5f\"}},\"annotationdefaults\":{\"arrowcolor\":\"#2a3f5f\",\"arrowhead\":0,\"arrowwidth\":1},\"geo\":{\"bgcolor\":\"white\",\"landcolor\":\"#E5ECF6\",\"subunitcolor\":\"white\",\"showland\":true,\"showlakes\":true,\"lakecolor\":\"white\"},\"title\":{\"x\":0.05},\"mapbox\":{\"style\":\"light\"}}},\"xaxis\":{\"anchor\":\"y\",\"domain\":[0.0,1.0]},\"yaxis\":{\"anchor\":\"x\",\"domain\":[0.0,1.0],\"autorange\":\"reversed\"},\"coloraxis\":{\"colorscale\":[[0.0,\"#0d0887\"],[0.1111111111111111,\"#46039f\"],[0.2222222222222222,\"#7201a8\"],[0.3333333333333333,\"#9c179e\"],[0.4444444444444444,\"#bd3786\"],[0.5555555555555556,\"#d8576b\"],[0.6666666666666666,\"#ed7953\"],[0.7777777777777778,\"#fb9f3a\"],[0.8888888888888888,\"#fdca26\"],[1.0,\"#f0f921\"]]},\"margin\":{\"t\":60}},                        {\"responsive\": true}                    ).then(function(){\n",
       "                            \n",
       "var gd = document.getElementById('82740b99-e485-4071-bd15-157a5ed17a5c');\n",
       "var x = new MutationObserver(function (mutations, observer) {{\n",
       "        var display = window.getComputedStyle(gd).display;\n",
       "        if (!display || display === 'none') {{\n",
       "            console.log([gd, 'removed!']);\n",
       "            Plotly.purge(gd);\n",
       "            observer.disconnect();\n",
       "        }}\n",
       "}});\n",
       "\n",
       "// Listen for the removal of the full notebook cells\n",
       "var notebookContainer = gd.closest('#notebook-container');\n",
       "if (notebookContainer) {{\n",
       "    x.observe(notebookContainer, {childList: true});\n",
       "}}\n",
       "\n",
       "// Listen for the clearing of the current output cell\n",
       "var outputEl = gd.closest('.output');\n",
       "if (outputEl) {{\n",
       "    x.observe(outputEl, {childList: true});\n",
       "}}\n",
       "\n",
       "                        })                };                });            </script>        </div>"
      ]
     },
     "metadata": {},
     "output_type": "display_data"
    }
   ],
   "source": [
    "# Using Plotly\n",
    "\n",
    "import plotly as px \n",
    "correlation = df.corr() \n",
    "fig = px.express.imshow(correlation, text_auto=True, aspect=\"auto\") \n",
    "fig.show()"
   ]
  },
  {
   "cell_type": "markdown",
   "id": "40b268e7",
   "metadata": {},
   "source": [
    "#### Our dataset is most negatively correlated which means that changes made to one variable is insignificant to other vatriables"
   ]
  },
  {
   "cell_type": "markdown",
   "id": "779419ba",
   "metadata": {},
   "source": [
    "#### Top 10 Eligible counties by their pecentage values"
   ]
  },
  {
   "cell_type": "code",
   "execution_count": 95,
   "id": "e3a90dbc",
   "metadata": {},
   "outputs": [],
   "source": [
    "# Dropping unecessary row\n",
    "\n",
    "df = df.drop(0)"
   ]
  },
  {
   "cell_type": "code",
   "execution_count": 96,
   "id": "6bb88829",
   "metadata": {},
   "outputs": [
    {
     "data": {
      "text/html": [
       "<div><div id=bb7f2127-658b-4cf6-9ed6-7f54a4898704 style=\"display:none; background-color:#9D6CFF; color:white; width:200px; height:30px; padding-left:5px; border-radius:4px; flex-direction:row; justify-content:space-around; align-items:center;\" onmouseover=\"this.style.backgroundColor='#BA9BF8'\" onmouseout=\"this.style.backgroundColor='#9D6CFF'\" onclick=\"window.commands?.execute('create-mitosheet-from-dataframe-output');\">See Full Dataframe in Mito</div> <script> if (window.commands.hasCommand('create-mitosheet-from-dataframe-output')) document.getElementById('bb7f2127-658b-4cf6-9ed6-7f54a4898704').style.display = 'flex' </script> <table border=\"1\" class=\"dataframe\">\n",
       "  <thead>\n",
       "    <tr style=\"text-align: right;\">\n",
       "      <th></th>\n",
       "      <th>State FIPS Code</th>\n",
       "      <th>County FIPS Code</th>\n",
       "      <th>Postal Code</th>\n",
       "      <th>Name</th>\n",
       "      <th>Poverty Estimate, All Ages</th>\n",
       "      <th>Poverty Percent, All Ages</th>\n",
       "      <th>Poverty Estimate, Age 0-17</th>\n",
       "      <th>Poverty Percent, Age 0-17</th>\n",
       "      <th>Poverty Estimate, Age 5-17 in Families</th>\n",
       "      <th>Poverty Percent, Age 5-17 in Families</th>\n",
       "      <th>Median Household Income</th>\n",
       "    </tr>\n",
       "  </thead>\n",
       "  <tbody>\n",
       "    <tr>\n",
       "      <th>1</th>\n",
       "      <td>1</td>\n",
       "      <td>0</td>\n",
       "      <td>AL</td>\n",
       "      <td>Alabama</td>\n",
       "      <td>714568</td>\n",
       "      <td>14.9</td>\n",
       "      <td>222934</td>\n",
       "      <td>20.9</td>\n",
       "      <td>152810</td>\n",
       "      <td>19.7</td>\n",
       "      <td>53958</td>\n",
       "    </tr>\n",
       "    <tr>\n",
       "      <th>2</th>\n",
       "      <td>1</td>\n",
       "      <td>1</td>\n",
       "      <td>AL</td>\n",
       "      <td>Autauga County</td>\n",
       "      <td>6242</td>\n",
       "      <td>11.2</td>\n",
       "      <td>1912</td>\n",
       "      <td>14.9</td>\n",
       "      <td>1378</td>\n",
       "      <td>14.5</td>\n",
       "      <td>67565</td>\n",
       "    </tr>\n",
       "    <tr>\n",
       "      <th>3</th>\n",
       "      <td>1</td>\n",
       "      <td>3</td>\n",
       "      <td>AL</td>\n",
       "      <td>Baldwin County</td>\n",
       "      <td>20189</td>\n",
       "      <td>8.9</td>\n",
       "      <td>5907</td>\n",
       "      <td>12.4</td>\n",
       "      <td>4192</td>\n",
       "      <td>11.8</td>\n",
       "      <td>71135</td>\n",
       "    </tr>\n",
       "    <tr>\n",
       "      <th>4</th>\n",
       "      <td>1</td>\n",
       "      <td>5</td>\n",
       "      <td>AL</td>\n",
       "      <td>Barbour County</td>\n",
       "      <td>5548</td>\n",
       "      <td>25.5</td>\n",
       "      <td>1857</td>\n",
       "      <td>37.5</td>\n",
       "      <td>1303</td>\n",
       "      <td>35.8</td>\n",
       "      <td>38866</td>\n",
       "    </tr>\n",
       "    <tr>\n",
       "      <th>5</th>\n",
       "      <td>1</td>\n",
       "      <td>7</td>\n",
       "      <td>AL</td>\n",
       "      <td>Bibb County</td>\n",
       "      <td>3549</td>\n",
       "      <td>17.8</td>\n",
       "      <td>941</td>\n",
       "      <td>21.9</td>\n",
       "      <td>681</td>\n",
       "      <td>22.1</td>\n",
       "      <td>50907</td>\n",
       "    </tr>\n",
       "  </tbody>\n",
       "</table></div>"
      ],
      "text/plain": [
       "   State FIPS Code  County FIPS Code Postal Code            Name  \\\n",
       "1                1                 0          AL         Alabama   \n",
       "2                1                 1          AL  Autauga County   \n",
       "3                1                 3          AL  Baldwin County   \n",
       "4                1                 5          AL  Barbour County   \n",
       "5                1                 7          AL     Bibb County   \n",
       "\n",
       "   Poverty Estimate, All Ages  Poverty Percent, All Ages  \\\n",
       "1                      714568                       14.9   \n",
       "2                        6242                       11.2   \n",
       "3                       20189                        8.9   \n",
       "4                        5548                       25.5   \n",
       "5                        3549                       17.8   \n",
       "\n",
       "   Poverty Estimate, Age 0-17  Poverty Percent, Age 0-17  \\\n",
       "1                      222934                       20.9   \n",
       "2                        1912                       14.9   \n",
       "3                        5907                       12.4   \n",
       "4                        1857                       37.5   \n",
       "5                         941                       21.9   \n",
       "\n",
       "   Poverty Estimate, Age 5-17 in Families  \\\n",
       "1                                  152810   \n",
       "2                                    1378   \n",
       "3                                    4192   \n",
       "4                                    1303   \n",
       "5                                     681   \n",
       "\n",
       "   Poverty Percent, Age 5-17 in Families  Median Household Income  \n",
       "1                                   19.7                    53958  \n",
       "2                                   14.5                    67565  \n",
       "3                                   11.8                    71135  \n",
       "4                                   35.8                    38866  \n",
       "5                                   22.1                    50907  "
      ]
     },
     "execution_count": 96,
     "metadata": {},
     "output_type": "execute_result"
    }
   ],
   "source": [
    "df.head()"
   ]
  },
  {
   "cell_type": "code",
   "execution_count": 106,
   "id": "f93dfa6e",
   "metadata": {},
   "outputs": [
    {
     "data": {
      "text/html": [
       "<style  type=\"text/css\" >\n",
       "#T_810c6_row2_col4{\n",
       "            background-color:  red;\n",
       "        }</style><table id=\"T_810c6_\" ><thead>    <tr>        <th class=\"blank level0\" ></th>        <th class=\"col_heading level0 col0\" >State FIPS Code</th>        <th class=\"col_heading level0 col1\" >County FIPS Code</th>        <th class=\"col_heading level0 col2\" >Postal Code</th>        <th class=\"col_heading level0 col3\" >Name</th>        <th class=\"col_heading level0 col4\" >Median Household Income</th>        <th class=\"col_heading level0 col5\" >Poverty Percent, All Ages</th>    </tr></thead><tbody>\n",
       "                <tr>\n",
       "                        <th id=\"T_810c6_level0_row0\" class=\"row_heading level0 row0\" >0</th>\n",
       "                        <td id=\"T_810c6_row0_col0\" class=\"data row0 col0\" >13</td>\n",
       "                        <td id=\"T_810c6_row0_col1\" class=\"data row0 col1\" >205</td>\n",
       "                        <td id=\"T_810c6_row0_col2\" class=\"data row0 col2\" >GA</td>\n",
       "                        <td id=\"T_810c6_row0_col3\" class=\"data row0 col3\" >Mitchell County</td>\n",
       "                        <td id=\"T_810c6_row0_col4\" class=\"data row0 col4\" >38256</td>\n",
       "                        <td id=\"T_810c6_row0_col5\" class=\"data row0 col5\" >38.200000</td>\n",
       "            </tr>\n",
       "            <tr>\n",
       "                        <th id=\"T_810c6_level0_row1\" class=\"row_heading level0 row1\" >1</th>\n",
       "                        <td id=\"T_810c6_row1_col0\" class=\"data row1 col0\" >8</td>\n",
       "                        <td id=\"T_810c6_row1_col1\" class=\"data row1 col1\" >25</td>\n",
       "                        <td id=\"T_810c6_row1_col2\" class=\"data row1 col2\" >CO</td>\n",
       "                        <td id=\"T_810c6_row1_col3\" class=\"data row1 col3\" >Crowley County</td>\n",
       "                        <td id=\"T_810c6_row1_col4\" class=\"data row1 col4\" >36836</td>\n",
       "                        <td id=\"T_810c6_row1_col5\" class=\"data row1 col5\" >37.200000</td>\n",
       "            </tr>\n",
       "            <tr>\n",
       "                        <th id=\"T_810c6_level0_row2\" class=\"row_heading level0 row2\" >2</th>\n",
       "                        <td id=\"T_810c6_row2_col0\" class=\"data row2 col0\" >5</td>\n",
       "                        <td id=\"T_810c6_row2_col1\" class=\"data row2 col1\" >77</td>\n",
       "                        <td id=\"T_810c6_row2_col2\" class=\"data row2 col2\" >AR</td>\n",
       "                        <td id=\"T_810c6_row2_col3\" class=\"data row2 col3\" >Lee County</td>\n",
       "                        <td id=\"T_810c6_row2_col4\" class=\"data row2 col4\" >32502</td>\n",
       "                        <td id=\"T_810c6_row2_col5\" class=\"data row2 col5\" >36.800000</td>\n",
       "            </tr>\n",
       "            <tr>\n",
       "                        <th id=\"T_810c6_level0_row3\" class=\"row_heading level0 row3\" >3</th>\n",
       "                        <td id=\"T_810c6_row3_col0\" class=\"data row3 col0\" >13</td>\n",
       "                        <td id=\"T_810c6_row3_col1\" class=\"data row3 col1\" >309</td>\n",
       "                        <td id=\"T_810c6_row3_col2\" class=\"data row3 col2\" >GA</td>\n",
       "                        <td id=\"T_810c6_row3_col3\" class=\"data row3 col3\" >Wheeler County</td>\n",
       "                        <td id=\"T_810c6_row3_col4\" class=\"data row3 col4\" >36671</td>\n",
       "                        <td id=\"T_810c6_row3_col5\" class=\"data row3 col5\" >35.600000</td>\n",
       "            </tr>\n",
       "            <tr>\n",
       "                        <th id=\"T_810c6_level0_row4\" class=\"row_heading level0 row4\" >4</th>\n",
       "                        <td id=\"T_810c6_row4_col0\" class=\"data row4 col0\" >13</td>\n",
       "                        <td id=\"T_810c6_row4_col1\" class=\"data row4 col1\" >37</td>\n",
       "                        <td id=\"T_810c6_row4_col2\" class=\"data row4 col2\" >GA</td>\n",
       "                        <td id=\"T_810c6_row4_col3\" class=\"data row4 col3\" >Calhoun County</td>\n",
       "                        <td id=\"T_810c6_row4_col4\" class=\"data row4 col4\" >37984</td>\n",
       "                        <td id=\"T_810c6_row4_col5\" class=\"data row4 col5\" >34.400000</td>\n",
       "            </tr>\n",
       "            <tr>\n",
       "                        <th id=\"T_810c6_level0_row5\" class=\"row_heading level0 row5\" >5</th>\n",
       "                        <td id=\"T_810c6_row5_col0\" class=\"data row5 col0\" >4</td>\n",
       "                        <td id=\"T_810c6_row5_col1\" class=\"data row5 col1\" >1</td>\n",
       "                        <td id=\"T_810c6_row5_col2\" class=\"data row5 col2\" >AZ</td>\n",
       "                        <td id=\"T_810c6_row5_col3\" class=\"data row5 col3\" >Apache County</td>\n",
       "                        <td id=\"T_810c6_row5_col4\" class=\"data row5 col4\" >36319</td>\n",
       "                        <td id=\"T_810c6_row5_col5\" class=\"data row5 col5\" >32.400000</td>\n",
       "            </tr>\n",
       "            <tr>\n",
       "                        <th id=\"T_810c6_level0_row6\" class=\"row_heading level0 row6\" >6</th>\n",
       "                        <td id=\"T_810c6_row6_col0\" class=\"data row6 col0\" >13</td>\n",
       "                        <td id=\"T_810c6_row6_col1\" class=\"data row6 col1\" >259</td>\n",
       "                        <td id=\"T_810c6_row6_col2\" class=\"data row6 col2\" >GA</td>\n",
       "                        <td id=\"T_810c6_row6_col3\" class=\"data row6 col3\" >Stewart County</td>\n",
       "                        <td id=\"T_810c6_row6_col4\" class=\"data row6 col4\" >40205</td>\n",
       "                        <td id=\"T_810c6_row6_col5\" class=\"data row6 col5\" >31.300000</td>\n",
       "            </tr>\n",
       "            <tr>\n",
       "                        <th id=\"T_810c6_level0_row7\" class=\"row_heading level0 row7\" >7</th>\n",
       "                        <td id=\"T_810c6_row7_col0\" class=\"data row7 col0\" >13</td>\n",
       "                        <td id=\"T_810c6_row7_col1\" class=\"data row7 col1\" >193</td>\n",
       "                        <td id=\"T_810c6_row7_col2\" class=\"data row7 col2\" >GA</td>\n",
       "                        <td id=\"T_810c6_row7_col3\" class=\"data row7 col3\" >Macon County</td>\n",
       "                        <td id=\"T_810c6_row7_col4\" class=\"data row7 col4\" >35997</td>\n",
       "                        <td id=\"T_810c6_row7_col5\" class=\"data row7 col5\" >31.100000</td>\n",
       "            </tr>\n",
       "            <tr>\n",
       "                        <th id=\"T_810c6_level0_row8\" class=\"row_heading level0 row8\" >8</th>\n",
       "                        <td id=\"T_810c6_row8_col0\" class=\"data row8 col0\" >1</td>\n",
       "                        <td id=\"T_810c6_row8_col1\" class=\"data row8 col1\" >11</td>\n",
       "                        <td id=\"T_810c6_row8_col2\" class=\"data row8 col2\" >AL</td>\n",
       "                        <td id=\"T_810c6_row8_col3\" class=\"data row8 col3\" >Bullock County</td>\n",
       "                        <td id=\"T_810c6_row8_col4\" class=\"data row8 col4\" >33124</td>\n",
       "                        <td id=\"T_810c6_row8_col5\" class=\"data row8 col5\" >30.800000</td>\n",
       "            </tr>\n",
       "            <tr>\n",
       "                        <th id=\"T_810c6_level0_row9\" class=\"row_heading level0 row9\" >9</th>\n",
       "                        <td id=\"T_810c6_row9_col0\" class=\"data row9 col0\" >1</td>\n",
       "                        <td id=\"T_810c6_row9_col1\" class=\"data row9 col1\" >105</td>\n",
       "                        <td id=\"T_810c6_row9_col2\" class=\"data row9 col2\" >AL</td>\n",
       "                        <td id=\"T_810c6_row9_col3\" class=\"data row9 col3\" >Perry County</td>\n",
       "                        <td id=\"T_810c6_row9_col4\" class=\"data row9 col4\" >33712</td>\n",
       "                        <td id=\"T_810c6_row9_col5\" class=\"data row9 col5\" >30.700000</td>\n",
       "            </tr>\n",
       "    </tbody></table>"
      ],
      "text/plain": [
       "<pandas.io.formats.style.Styler at 0xe287838>"
      ]
     },
     "execution_count": 106,
     "metadata": {},
     "output_type": "execute_result"
    }
   ],
   "source": [
    "# Computing column by column top 10\n",
    "df1 = df.groupby([\"State FIPS Code\", \"County FIPS Code\", \"Postal Code\",\"Name\", \"Median Household Income\"])[\"Poverty Percent, All Ages\"].sum().nlargest(n=10).reset_index()\n",
    "\n",
    "\n",
    "df1.style.highlight_min(subset=['Median Household Income'],color = \"red\")"
   ]
  },
  {
   "cell_type": "code",
   "execution_count": 100,
   "id": "2bef2396",
   "metadata": {},
   "outputs": [
    {
     "data": {
      "text/html": [
       "<style  type=\"text/css\" >\n",
       "#T_6221a_row9_col4{\n",
       "            background-color:  red;\n",
       "        }</style><table id=\"T_6221a_\" ><thead>    <tr>        <th class=\"blank level0\" ></th>        <th class=\"col_heading level0 col0\" >State FIPS Code</th>        <th class=\"col_heading level0 col1\" >County FIPS Code</th>        <th class=\"col_heading level0 col2\" >Postal Code</th>        <th class=\"col_heading level0 col3\" >Name</th>        <th class=\"col_heading level0 col4\" >Median Household Income</th>        <th class=\"col_heading level0 col5\" >Poverty Percent, Age 0-17</th>    </tr></thead><tbody>\n",
       "                <tr>\n",
       "                        <th id=\"T_6221a_level0_row0\" class=\"row_heading level0 row0\" >0</th>\n",
       "                        <td id=\"T_6221a_row0_col0\" class=\"data row0 col0\" >13</td>\n",
       "                        <td id=\"T_6221a_row0_col1\" class=\"data row0 col1\" >205</td>\n",
       "                        <td id=\"T_6221a_row0_col2\" class=\"data row0 col2\" >GA</td>\n",
       "                        <td id=\"T_6221a_row0_col3\" class=\"data row0 col3\" >Mitchell County</td>\n",
       "                        <td id=\"T_6221a_row0_col4\" class=\"data row0 col4\" >38256</td>\n",
       "                        <td id=\"T_6221a_row0_col5\" class=\"data row0 col5\" >50.100000</td>\n",
       "            </tr>\n",
       "            <tr>\n",
       "                        <th id=\"T_6221a_level0_row1\" class=\"row_heading level0 row1\" >1</th>\n",
       "                        <td id=\"T_6221a_row1_col0\" class=\"data row1 col0\" >5</td>\n",
       "                        <td id=\"T_6221a_row1_col1\" class=\"data row1 col1\" >77</td>\n",
       "                        <td id=\"T_6221a_row1_col2\" class=\"data row1 col2\" >AR</td>\n",
       "                        <td id=\"T_6221a_row1_col3\" class=\"data row1 col3\" >Lee County</td>\n",
       "                        <td id=\"T_6221a_row1_col4\" class=\"data row1 col4\" >32502</td>\n",
       "                        <td id=\"T_6221a_row1_col5\" class=\"data row1 col5\" >45.400000</td>\n",
       "            </tr>\n",
       "            <tr>\n",
       "                        <th id=\"T_6221a_level0_row2\" class=\"row_heading level0 row2\" >2</th>\n",
       "                        <td id=\"T_6221a_row2_col0\" class=\"data row2 col0\" >13</td>\n",
       "                        <td id=\"T_6221a_row2_col1\" class=\"data row2 col1\" >273</td>\n",
       "                        <td id=\"T_6221a_row2_col2\" class=\"data row2 col2\" >GA</td>\n",
       "                        <td id=\"T_6221a_row2_col3\" class=\"data row2 col3\" >Terrell County</td>\n",
       "                        <td id=\"T_6221a_row2_col4\" class=\"data row2 col4\" >39433</td>\n",
       "                        <td id=\"T_6221a_row2_col5\" class=\"data row2 col5\" >45.000000</td>\n",
       "            </tr>\n",
       "            <tr>\n",
       "                        <th id=\"T_6221a_level0_row3\" class=\"row_heading level0 row3\" >3</th>\n",
       "                        <td id=\"T_6221a_row3_col0\" class=\"data row3 col0\" >4</td>\n",
       "                        <td id=\"T_6221a_row3_col1\" class=\"data row3 col1\" >1</td>\n",
       "                        <td id=\"T_6221a_row3_col2\" class=\"data row3 col2\" >AZ</td>\n",
       "                        <td id=\"T_6221a_row3_col3\" class=\"data row3 col3\" >Apache County</td>\n",
       "                        <td id=\"T_6221a_row3_col4\" class=\"data row3 col4\" >36319</td>\n",
       "                        <td id=\"T_6221a_row3_col5\" class=\"data row3 col5\" >44.400000</td>\n",
       "            </tr>\n",
       "            <tr>\n",
       "                        <th id=\"T_6221a_level0_row4\" class=\"row_heading level0 row4\" >4</th>\n",
       "                        <td id=\"T_6221a_row4_col0\" class=\"data row4 col0\" >1</td>\n",
       "                        <td id=\"T_6221a_row4_col1\" class=\"data row4 col1\" >105</td>\n",
       "                        <td id=\"T_6221a_row4_col2\" class=\"data row4 col2\" >AL</td>\n",
       "                        <td id=\"T_6221a_row4_col3\" class=\"data row4 col3\" >Perry County</td>\n",
       "                        <td id=\"T_6221a_row4_col4\" class=\"data row4 col4\" >33712</td>\n",
       "                        <td id=\"T_6221a_row4_col5\" class=\"data row4 col5\" >44.200000</td>\n",
       "            </tr>\n",
       "            <tr>\n",
       "                        <th id=\"T_6221a_level0_row5\" class=\"row_heading level0 row5\" >5</th>\n",
       "                        <td id=\"T_6221a_row5_col0\" class=\"data row5 col0\" >1</td>\n",
       "                        <td id=\"T_6221a_row5_col1\" class=\"data row5 col1\" >63</td>\n",
       "                        <td id=\"T_6221a_row5_col2\" class=\"data row5 col2\" >AL</td>\n",
       "                        <td id=\"T_6221a_row5_col3\" class=\"data row5 col3\" >Greene County</td>\n",
       "                        <td id=\"T_6221a_row5_col4\" class=\"data row5 col4\" >33609</td>\n",
       "                        <td id=\"T_6221a_row5_col5\" class=\"data row5 col5\" >43.500000</td>\n",
       "            </tr>\n",
       "            <tr>\n",
       "                        <th id=\"T_6221a_level0_row6\" class=\"row_heading level0 row6\" >6</th>\n",
       "                        <td id=\"T_6221a_row6_col0\" class=\"data row6 col0\" >13</td>\n",
       "                        <td id=\"T_6221a_row6_col1\" class=\"data row6 col1\" >61</td>\n",
       "                        <td id=\"T_6221a_row6_col2\" class=\"data row6 col2\" >GA</td>\n",
       "                        <td id=\"T_6221a_row6_col3\" class=\"data row6 col3\" >Clay County</td>\n",
       "                        <td id=\"T_6221a_row6_col4\" class=\"data row6 col4\" >35937</td>\n",
       "                        <td id=\"T_6221a_row6_col5\" class=\"data row6 col5\" >43.300000</td>\n",
       "            </tr>\n",
       "            <tr>\n",
       "                        <th id=\"T_6221a_level0_row7\" class=\"row_heading level0 row7\" >7</th>\n",
       "                        <td id=\"T_6221a_row7_col0\" class=\"data row7 col0\" >2</td>\n",
       "                        <td id=\"T_6221a_row7_col1\" class=\"data row7 col1\" >158</td>\n",
       "                        <td id=\"T_6221a_row7_col2\" class=\"data row7 col2\" >AK</td>\n",
       "                        <td id=\"T_6221a_row7_col3\" class=\"data row7 col3\" >Kusilvak Census Area</td>\n",
       "                        <td id=\"T_6221a_row7_col4\" class=\"data row7 col4\" >37566</td>\n",
       "                        <td id=\"T_6221a_row7_col5\" class=\"data row7 col5\" >42.500000</td>\n",
       "            </tr>\n",
       "            <tr>\n",
       "                        <th id=\"T_6221a_level0_row8\" class=\"row_heading level0 row8\" >8</th>\n",
       "                        <td id=\"T_6221a_row8_col0\" class=\"data row8 col0\" >1</td>\n",
       "                        <td id=\"T_6221a_row8_col1\" class=\"data row8 col1\" >47</td>\n",
       "                        <td id=\"T_6221a_row8_col2\" class=\"data row8 col2\" >AL</td>\n",
       "                        <td id=\"T_6221a_row8_col3\" class=\"data row8 col3\" >Dallas County</td>\n",
       "                        <td id=\"T_6221a_row8_col4\" class=\"data row8 col4\" >37679</td>\n",
       "                        <td id=\"T_6221a_row8_col5\" class=\"data row8 col5\" >42.300000</td>\n",
       "            </tr>\n",
       "            <tr>\n",
       "                        <th id=\"T_6221a_level0_row9\" class=\"row_heading level0 row9\" >9</th>\n",
       "                        <td id=\"T_6221a_row9_col0\" class=\"data row9 col0\" >1</td>\n",
       "                        <td id=\"T_6221a_row9_col1\" class=\"data row9 col1\" >119</td>\n",
       "                        <td id=\"T_6221a_row9_col2\" class=\"data row9 col2\" >AL</td>\n",
       "                        <td id=\"T_6221a_row9_col3\" class=\"data row9 col3\" >Sumter County</td>\n",
       "                        <td id=\"T_6221a_row9_col4\" class=\"data row9 col4\" >32275</td>\n",
       "                        <td id=\"T_6221a_row9_col5\" class=\"data row9 col5\" >42.000000</td>\n",
       "            </tr>\n",
       "    </tbody></table>"
      ],
      "text/plain": [
       "<pandas.io.formats.style.Styler at 0xc962340>"
      ]
     },
     "execution_count": 100,
     "metadata": {},
     "output_type": "execute_result"
    }
   ],
   "source": [
    "# Computing column by column top 10\n",
    "\n",
    "df2 = df.groupby([\"State FIPS Code\", \"County FIPS Code\", \"Postal Code\",\"Name\", \"Median Household Income\"])[\"Poverty Percent, Age 0-17\"].sum().nlargest(n=10).reset_index()\n",
    "\n",
    "\n",
    "df2.style.highlight_min(subset=['Median Household Income'],color = \"red\")"
   ]
  },
  {
   "cell_type": "code",
   "execution_count": 105,
   "id": "dbdcc5f1",
   "metadata": {},
   "outputs": [
    {
     "data": {
      "text/html": [
       "<style  type=\"text/css\" >\n",
       "#T_6309a_row5_col4{\n",
       "            background-color:  red;\n",
       "        }</style><table id=\"T_6309a_\" ><thead>    <tr>        <th class=\"blank level0\" ></th>        <th class=\"col_heading level0 col0\" >State FIPS Code</th>        <th class=\"col_heading level0 col1\" >County FIPS Code</th>        <th class=\"col_heading level0 col2\" >Postal Code</th>        <th class=\"col_heading level0 col3\" >Name</th>        <th class=\"col_heading level0 col4\" >Median Household Income</th>        <th class=\"col_heading level0 col5\" >Poverty Percent, Age 5-17 in Families</th>    </tr></thead><tbody>\n",
       "                <tr>\n",
       "                        <th id=\"T_6309a_level0_row0\" class=\"row_heading level0 row0\" >0</th>\n",
       "                        <td id=\"T_6309a_row0_col0\" class=\"data row0 col0\" >13</td>\n",
       "                        <td id=\"T_6309a_row0_col1\" class=\"data row0 col1\" >205</td>\n",
       "                        <td id=\"T_6309a_row0_col2\" class=\"data row0 col2\" >GA</td>\n",
       "                        <td id=\"T_6309a_row0_col3\" class=\"data row0 col3\" >Mitchell County</td>\n",
       "                        <td id=\"T_6309a_row0_col4\" class=\"data row0 col4\" >38256</td>\n",
       "                        <td id=\"T_6309a_row0_col5\" class=\"data row0 col5\" >46.300000</td>\n",
       "            </tr>\n",
       "            <tr>\n",
       "                        <th id=\"T_6309a_level0_row1\" class=\"row_heading level0 row1\" >1</th>\n",
       "                        <td id=\"T_6309a_row1_col0\" class=\"data row1 col0\" >5</td>\n",
       "                        <td id=\"T_6309a_row1_col1\" class=\"data row1 col1\" >77</td>\n",
       "                        <td id=\"T_6309a_row1_col2\" class=\"data row1 col2\" >AR</td>\n",
       "                        <td id=\"T_6309a_row1_col3\" class=\"data row1 col3\" >Lee County</td>\n",
       "                        <td id=\"T_6309a_row1_col4\" class=\"data row1 col4\" >32502</td>\n",
       "                        <td id=\"T_6309a_row1_col5\" class=\"data row1 col5\" >45.100000</td>\n",
       "            </tr>\n",
       "            <tr>\n",
       "                        <th id=\"T_6309a_level0_row2\" class=\"row_heading level0 row2\" >2</th>\n",
       "                        <td id=\"T_6309a_row2_col0\" class=\"data row2 col0\" >1</td>\n",
       "                        <td id=\"T_6309a_row2_col1\" class=\"data row2 col1\" >105</td>\n",
       "                        <td id=\"T_6309a_row2_col2\" class=\"data row2 col2\" >AL</td>\n",
       "                        <td id=\"T_6309a_row2_col3\" class=\"data row2 col3\" >Perry County</td>\n",
       "                        <td id=\"T_6309a_row2_col4\" class=\"data row2 col4\" >33712</td>\n",
       "                        <td id=\"T_6309a_row2_col5\" class=\"data row2 col5\" >43.800000</td>\n",
       "            </tr>\n",
       "            <tr>\n",
       "                        <th id=\"T_6309a_level0_row3\" class=\"row_heading level0 row3\" >3</th>\n",
       "                        <td id=\"T_6309a_row3_col0\" class=\"data row3 col0\" >13</td>\n",
       "                        <td id=\"T_6309a_row3_col1\" class=\"data row3 col1\" >61</td>\n",
       "                        <td id=\"T_6309a_row3_col2\" class=\"data row3 col2\" >GA</td>\n",
       "                        <td id=\"T_6309a_row3_col3\" class=\"data row3 col3\" >Clay County</td>\n",
       "                        <td id=\"T_6309a_row3_col4\" class=\"data row3 col4\" >35937</td>\n",
       "                        <td id=\"T_6309a_row3_col5\" class=\"data row3 col5\" >43.400000</td>\n",
       "            </tr>\n",
       "            <tr>\n",
       "                        <th id=\"T_6309a_level0_row4\" class=\"row_heading level0 row4\" >4</th>\n",
       "                        <td id=\"T_6309a_row4_col0\" class=\"data row4 col0\" >13</td>\n",
       "                        <td id=\"T_6309a_row4_col1\" class=\"data row4 col1\" >273</td>\n",
       "                        <td id=\"T_6309a_row4_col2\" class=\"data row4 col2\" >GA</td>\n",
       "                        <td id=\"T_6309a_row4_col3\" class=\"data row4 col3\" >Terrell County</td>\n",
       "                        <td id=\"T_6309a_row4_col4\" class=\"data row4 col4\" >39433</td>\n",
       "                        <td id=\"T_6309a_row4_col5\" class=\"data row4 col5\" >42.600000</td>\n",
       "            </tr>\n",
       "            <tr>\n",
       "                        <th id=\"T_6309a_level0_row5\" class=\"row_heading level0 row5\" >5</th>\n",
       "                        <td id=\"T_6309a_row5_col0\" class=\"data row5 col0\" >1</td>\n",
       "                        <td id=\"T_6309a_row5_col1\" class=\"data row5 col1\" >119</td>\n",
       "                        <td id=\"T_6309a_row5_col2\" class=\"data row5 col2\" >AL</td>\n",
       "                        <td id=\"T_6309a_row5_col3\" class=\"data row5 col3\" >Sumter County</td>\n",
       "                        <td id=\"T_6309a_row5_col4\" class=\"data row5 col4\" >32275</td>\n",
       "                        <td id=\"T_6309a_row5_col5\" class=\"data row5 col5\" >41.600000</td>\n",
       "            </tr>\n",
       "            <tr>\n",
       "                        <th id=\"T_6309a_level0_row6\" class=\"row_heading level0 row6\" >6</th>\n",
       "                        <td id=\"T_6309a_row6_col0\" class=\"data row6 col0\" >13</td>\n",
       "                        <td id=\"T_6309a_row6_col1\" class=\"data row6 col1\" >239</td>\n",
       "                        <td id=\"T_6309a_row6_col2\" class=\"data row6 col2\" >GA</td>\n",
       "                        <td id=\"T_6309a_row6_col3\" class=\"data row6 col3\" >Quitman County</td>\n",
       "                        <td id=\"T_6309a_row6_col4\" class=\"data row6 col4\" >37735</td>\n",
       "                        <td id=\"T_6309a_row6_col5\" class=\"data row6 col5\" >41.200000</td>\n",
       "            </tr>\n",
       "            <tr>\n",
       "                        <th id=\"T_6309a_level0_row7\" class=\"row_heading level0 row7\" >7</th>\n",
       "                        <td id=\"T_6309a_row7_col0\" class=\"data row7 col0\" >1</td>\n",
       "                        <td id=\"T_6309a_row7_col1\" class=\"data row7 col1\" >63</td>\n",
       "                        <td id=\"T_6309a_row7_col2\" class=\"data row7 col2\" >AL</td>\n",
       "                        <td id=\"T_6309a_row7_col3\" class=\"data row7 col3\" >Greene County</td>\n",
       "                        <td id=\"T_6309a_row7_col4\" class=\"data row7 col4\" >33609</td>\n",
       "                        <td id=\"T_6309a_row7_col5\" class=\"data row7 col5\" >41.100000</td>\n",
       "            </tr>\n",
       "            <tr>\n",
       "                        <th id=\"T_6309a_level0_row8\" class=\"row_heading level0 row8\" >8</th>\n",
       "                        <td id=\"T_6309a_row8_col0\" class=\"data row8 col0\" >2</td>\n",
       "                        <td id=\"T_6309a_row8_col1\" class=\"data row8 col1\" >158</td>\n",
       "                        <td id=\"T_6309a_row8_col2\" class=\"data row8 col2\" >AK</td>\n",
       "                        <td id=\"T_6309a_row8_col3\" class=\"data row8 col3\" >Kusilvak Census Area</td>\n",
       "                        <td id=\"T_6309a_row8_col4\" class=\"data row8 col4\" >37566</td>\n",
       "                        <td id=\"T_6309a_row8_col5\" class=\"data row8 col5\" >41.000000</td>\n",
       "            </tr>\n",
       "            <tr>\n",
       "                        <th id=\"T_6309a_level0_row9\" class=\"row_heading level0 row9\" >9</th>\n",
       "                        <td id=\"T_6309a_row9_col0\" class=\"data row9 col0\" >13</td>\n",
       "                        <td id=\"T_6309a_row9_col1\" class=\"data row9 col1\" >7</td>\n",
       "                        <td id=\"T_6309a_row9_col2\" class=\"data row9 col2\" >GA</td>\n",
       "                        <td id=\"T_6309a_row9_col3\" class=\"data row9 col3\" >Baker County</td>\n",
       "                        <td id=\"T_6309a_row9_col4\" class=\"data row9 col4\" >43696</td>\n",
       "                        <td id=\"T_6309a_row9_col5\" class=\"data row9 col5\" >40.600000</td>\n",
       "            </tr>\n",
       "    </tbody></table>"
      ],
      "text/plain": [
       "<pandas.io.formats.style.Styler at 0xc9628c8>"
      ]
     },
     "execution_count": 105,
     "metadata": {},
     "output_type": "execute_result"
    }
   ],
   "source": [
    "# Computing column by column top 10\n",
    "\n",
    "df3 = df.groupby([\"State FIPS Code\", \"County FIPS Code\", \"Postal Code\",\"Name\", \"Median Household Income\"])[\"Poverty Percent, Age 5-17 in Families\"].sum().nlargest(n=10).reset_index()\n",
    "\n",
    "df3.style.highlight_min(subset=['Median Household Income'],color = \"red\")"
   ]
  },
  {
   "cell_type": "markdown",
   "id": "e8d1801c",
   "metadata": {},
   "source": [
    "#### Recommendations\n",
    "\n",
    "#### Areas with potential high poverty rates that are eligible for SNAP by income and poverty rate by over 50% are\n",
    "\n",
    "- Mitchell County\n",
    "- Lee County\n",
    "- Terrell County\n",
    "- Clay County\n",
    "- Greene County\n",
    "- Apache County\n",
    "- Perry County\n",
    "- Sumter County\n",
    "- Baker County"
   ]
  }
 ],
 "metadata": {
  "kernelspec": {
   "display_name": "Python 3",
   "language": "python",
   "name": "python3"
  }
 },
 "nbformat": 4,
 "nbformat_minor": 5
}
